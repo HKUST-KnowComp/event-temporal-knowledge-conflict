{
 "cells": [
  {
   "cell_type": "code",
   "execution_count": 1,
   "id": "8f8f1dd9",
   "metadata": {},
   "outputs": [],
   "source": [
    "import json\n",
    "import numpy as np\n",
    "\n",
    "pred = json.load(open('gpt3_pred_dev.json'))\n",
    "\n",
    "dev = json.load(open(\"../data/individual_dev_end2end_final.json\"))"
   ]
  },
  {
   "cell_type": "code",
   "execution_count": 3,
   "id": "cd824b02",
   "metadata": {},
   "outputs": [
    {
     "name": "stderr",
     "output_type": "stream",
     "text": [
      "1483it [00:00, 10770.29it/s]\n"
     ]
    },
    {
     "name": "stdout",
     "output_type": "stream",
     "text": [
      "Total 1483 questions\n",
      "Eval on the current eval positive class Micro F1 (Agg) is: 0.3987\n",
      "Eval on the current eval positive class Macro F1 (Relaxed) is: 0.4548\n",
      "Eval on the current eval positive class Macro F1 (Agg) is: 0.3696\n",
      "Eval on the current eval exact match (Agg) ratio is: 0.0553\n",
      "Eval on the current eval exact match ratio (Relaxed) is: 0.0836\n",
      "Eval on 485 Clusters\n",
      "Eval on the current eval clustered EM (Agg) is: 0.0021\n",
      "Eval on the current eval clustered EM (Relaxed) is: 0.0082\n",
      "Eval on the current eval clusrered F1 (max>=0.8) is: 0.0165\n"
     ]
    }
   ],
   "source": [
    "from eval_func_gpt3 import evaluate\n",
    "\n",
    "pred_text = dict([(key, \",\".join([c for p, c in zip(pred[key], dev[key]['context']) if p == 1 ])) for key in pred])\n",
    "evaluate(pred_text, dict([(key, dev[key]) for key in pred]))"
   ]
  },
  {
   "cell_type": "code",
   "execution_count": 4,
   "id": "0025c9a1",
   "metadata": {},
   "outputs": [
    {
     "name": "stderr",
     "output_type": "stream",
     "text": [
      "575it [00:00, 45057.91it/s]"
     ]
    },
    {
     "name": "stdout",
     "output_type": "stream",
     "text": [
      "Total 575 questions\n",
      "Eval on the current eval positive class Micro F1 (Agg) is: 0.4270\n",
      "Eval on the current eval positive class Macro F1 (Relaxed) is: 0.5114\n",
      "Eval on the current eval positive class Macro F1 (Agg) is: 0.4089\n",
      "Eval on the current eval exact match (Agg) ratio is: 0.0157\n",
      "Eval on the current eval exact match ratio (Relaxed) is: 0.0487\n",
      "Eval on 267 Clusters\n",
      "Eval on the current eval clustered EM (Agg) is: 0.0150\n",
      "Eval on the current eval clustered EM (Relaxed) is: 0.0225\n",
      "Eval on the current eval clusrered F1 (max>=0.8) is: 0.1049\n"
     ]
    },
    {
     "name": "stderr",
     "output_type": "stream",
     "text": [
      "\n"
     ]
    }
   ],
   "source": [
    "dev_erp_align = json.load(open(\"../data/dataset_bias_new/individual_dev_erp_bias_align.json\"))\n",
    "evaluate(dict([(key, pred_text[key]) for key in dev_erp_align]), dev_erp_align)"
   ]
  },
  {
   "cell_type": "code",
   "execution_count": 6,
   "id": "498a9d8c",
   "metadata": {},
   "outputs": [
    {
     "name": "stderr",
     "output_type": "stream",
     "text": [
      "688it [00:00, 32693.75it/s]"
     ]
    },
    {
     "name": "stdout",
     "output_type": "stream",
     "text": [
      "Total 688 questions\n",
      "Eval on the current eval positive class Micro F1 (Agg) is: 0.3572\n",
      "Eval on the current eval positive class Macro F1 (Relaxed) is: 0.4261\n",
      "Eval on the current eval positive class Macro F1 (Agg) is: 0.3336\n",
      "Eval on the current eval exact match (Agg) ratio is: 0.0451\n",
      "Eval on the current eval exact match ratio (Relaxed) is: 0.0727\n",
      "Eval on 305 Clusters\n",
      "Eval on the current eval clustered EM (Agg) is: 0.0164\n",
      "Eval on the current eval clustered EM (Relaxed) is: 0.0262\n",
      "Eval on the current eval clusrered F1 (max>=0.8) is: 0.0590\n"
     ]
    },
    {
     "name": "stderr",
     "output_type": "stream",
     "text": [
      "\n"
     ]
    }
   ],
   "source": [
    "dev_tense_align = json.load(open(\"../data/dataset_bias_new/individual_dev_tense_relation_bias_align.json\"))\n",
    "evaluate(dict([(key, pred_text[key]) for key in dev_tense_align]), dev_tense_align)"
   ]
  },
  {
   "cell_type": "code",
   "execution_count": 7,
   "id": "f2ec6899",
   "metadata": {},
   "outputs": [
    {
     "name": "stderr",
     "output_type": "stream",
     "text": [
      "184it [00:00, 57614.93it/s]"
     ]
    },
    {
     "name": "stdout",
     "output_type": "stream",
     "text": [
      "Total 184 questions\n",
      "Eval on the current eval positive class Micro F1 (Agg) is: 0.4886\n",
      "Eval on the current eval positive class Macro F1 (Relaxed) is: 0.5673\n",
      "Eval on the current eval positive class Macro F1 (Agg) is: 0.4661\n",
      "Eval on the current eval exact match (Agg) ratio is: 0.0054\n",
      "Eval on the current eval exact match ratio (Relaxed) is: 0.0272\n",
      "Eval on 139 Clusters\n",
      "Eval on the current eval clustered EM (Agg) is: 0.0000\n",
      "Eval on the current eval clustered EM (Relaxed) is: 0.0288\n",
      "Eval on the current eval clusrered F1 (max>=0.8) is: 0.1439\n"
     ]
    },
    {
     "name": "stderr",
     "output_type": "stream",
     "text": [
      "\n"
     ]
    }
   ],
   "source": [
    "dev_dep_align = json.load(open(\"../data/dataset_bias_new/individual_dev_dependency_bias_align.json\"))\n",
    "evaluate(dict([(key, pred_text[key]) for key in dev_dep_align]), dev_dep_align)"
   ]
  },
  {
   "cell_type": "code",
   "execution_count": 8,
   "id": "4e1488f6",
   "metadata": {},
   "outputs": [
    {
     "name": "stderr",
     "output_type": "stream",
     "text": [
      "791it [00:00, 77330.13it/s]"
     ]
    },
    {
     "name": "stdout",
     "output_type": "stream",
     "text": [
      "Total 791 questions\n",
      "Eval on the current eval positive class Micro F1 (Agg) is: 0.3773\n",
      "Eval on the current eval positive class Macro F1 (Relaxed) is: 0.4439\n",
      "Eval on the current eval positive class Macro F1 (Agg) is: 0.3520\n",
      "Eval on the current eval exact match (Agg) ratio is: 0.0430\n",
      "Eval on the current eval exact match ratio (Relaxed) is: 0.0721\n",
      "Eval on 323 Clusters\n",
      "Eval on the current eval clustered EM (Agg) is: 0.0155\n",
      "Eval on the current eval clustered EM (Relaxed) is: 0.0217\n",
      "Eval on the current eval clusrered F1 (max>=0.8) is: 0.0495\n"
     ]
    },
    {
     "name": "stderr",
     "output_type": "stream",
     "text": [
      "\n"
     ]
    }
   ],
   "source": [
    "dev_narrative_align = json.load(open(\"../data/dataset_bias_new/individual_dev_narrative_bias_align.json\"))\n",
    "evaluate(dict([(key, pred_text[key]) for key in dev_narrative_align]), dev_narrative_align)"
   ]
  },
  {
   "cell_type": "code",
   "execution_count": 9,
   "id": "3d036e44",
   "metadata": {},
   "outputs": [
    {
     "name": "stderr",
     "output_type": "stream",
     "text": [
      "80it [00:00, 41584.37it/s]"
     ]
    },
    {
     "name": "stdout",
     "output_type": "stream",
     "text": [
      "Total 80 questions\n",
      "Eval on the current eval positive class Micro F1 (Agg) is: 0.0128\n",
      "Eval on the current eval positive class Macro F1 (Relaxed) is: 0.3037\n",
      "Eval on the current eval positive class Macro F1 (Agg) is: 0.2461\n",
      "Eval on the current eval exact match (Agg) ratio is: 0.2375\n",
      "Eval on the current eval exact match ratio (Relaxed) is: 0.2500\n",
      "Eval on 80 Clusters\n",
      "Eval on the current eval clustered EM (Agg) is: 0.2375\n",
      "Eval on the current eval clustered EM (Relaxed) is: 0.2500\n",
      "Eval on the current eval clusrered F1 (max>=0.8) is: 0.2750\n"
     ]
    },
    {
     "name": "stderr",
     "output_type": "stream",
     "text": [
      "\n"
     ]
    }
   ],
   "source": [
    "dev_warm_answer_align = json.load(open(\"../data/dataset_bias_new/individual_dev_warmup_answer_bias_align.json\"))\n",
    "evaluate(dict([(key, pred_text[key]) for key in dev_warm_answer_align]), dev_warm_answer_align)"
   ]
  },
  {
   "cell_type": "code",
   "execution_count": 10,
   "id": "8d65f624",
   "metadata": {},
   "outputs": [
    {
     "name": "stderr",
     "output_type": "stream",
     "text": [
      "75it [00:00, 36865.44it/s]"
     ]
    },
    {
     "name": "stdout",
     "output_type": "stream",
     "text": [
      "Total 75 questions\n",
      "Eval on the current eval positive class Micro F1 (Agg) is: 0.0000\n",
      "Eval on the current eval positive class Macro F1 (Relaxed) is: 0.2997\n",
      "Eval on the current eval positive class Macro F1 (Agg) is: 0.2533\n",
      "Eval on the current eval exact match (Agg) ratio is: 0.2533\n",
      "Eval on the current eval exact match ratio (Relaxed) is: 0.2533\n",
      "Eval on 75 Clusters\n",
      "Eval on the current eval clustered EM (Agg) is: 0.2533\n",
      "Eval on the current eval clustered EM (Relaxed) is: 0.2533\n",
      "Eval on the current eval clusrered F1 (max>=0.8) is: 0.2800\n"
     ]
    },
    {
     "name": "stderr",
     "output_type": "stream",
     "text": [
      "\n"
     ]
    }
   ],
   "source": [
    "dev_warm_tense_align = json.load(open(\"../data/dataset_bias_new/individual_dev_warmup_tense_bias_align.json\"))\n",
    "evaluate(dict([(key, pred_text[key]) for key in dev_warm_tense_align]), dev_warm_tense_align)"
   ]
  },
  {
   "cell_type": "code",
   "execution_count": null,
   "id": "8245c5bc",
   "metadata": {},
   "outputs": [],
   "source": []
  }
 ],
 "metadata": {
  "kernelspec": {
   "display_name": "Python 3 (ipykernel)",
   "language": "python",
   "name": "python3"
  },
  "language_info": {
   "codemirror_mode": {
    "name": "ipython",
    "version": 3
   },
   "file_extension": ".py",
   "mimetype": "text/x-python",
   "name": "python",
   "nbconvert_exporter": "python",
   "pygments_lexer": "ipython3",
   "version": "3.8.13"
  }
 },
 "nbformat": 4,
 "nbformat_minor": 5
}
