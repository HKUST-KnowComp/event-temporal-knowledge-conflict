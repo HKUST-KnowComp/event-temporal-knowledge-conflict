{
 "cells": [
  {
   "cell_type": "markdown",
   "metadata": {},
   "source": [
    "# RoBERTa-large to check event relations without context"
   ]
  },
  {
   "cell_type": "code",
   "execution_count": null,
   "metadata": {},
   "outputs": [],
   "source": [
    "import os\n",
    "os.environ[\"CUDA_LAUNCH_BLOCKING\"] = \"0\"\n",
    "import torch\n",
    "from transformers import AutoTokenizer, AutoModelForMaskedLM\n",
    "\n",
    "tokenizer = AutoTokenizer.from_pretrained(\"roberta-large\")\n",
    "model = AutoModelForMaskedLM.from_pretrained(\"roberta-large\").to(\"cuda\")"
   ]
  },
  {
   "cell_type": "code",
   "execution_count": 3,
   "metadata": {},
   "outputs": [
    {
     "name": "stdout",
     "output_type": "stream",
     "text": [
      "after\n"
     ]
    }
   ],
   "source": [
    "import torch.nn.functional as F\n",
    "\n",
    "e1 = \"arrest\"\n",
    "e2 = \"kill\"\n",
    "\n",
    "\n",
    "relation_token_ids = {\"before\":tokenizer.encode(\"before\", add_special_tokens=False)[0],\n",
    "                      \"after\":tokenizer.encode(\"after\", add_special_tokens=False)[0],\n",
    "                      \"equal\":tokenizer.encode(\"during\", add_special_tokens=False)[0]\n",
    "                    }\n",
    "\n",
    "with torch.no_grad():\n",
    "  text = f\"{e1} happens {tokenizer.mask_token} {e2}\"\n",
    "  input = tokenizer(text, return_tensors=\"pt\").to(\"cuda\")\n",
    "  mask_token_index = torch.where(input[\"input_ids\"][0] == tokenizer.mask_token_id)[0]\n",
    "  token_logits = model(**input).logits\n",
    "  mask_token_logits = token_logits[0, mask_token_index, :]\n",
    "  mask_token_softmax = F.softmax(mask_token_logits, dim=1)\n",
    "  max_idx = torch.argmax(mask_token_softmax[0][[relation_token_ids[\"before\"], relation_token_ids[\"after\"], relation_token_ids[\"equal\"]]])\n",
    "  pred_relation = list(relation_token_ids.keys())[max_idx]\n",
    "  print(pred_relation)"
   ]
  },
  {
   "cell_type": "code",
   "execution_count": 4,
   "metadata": {},
   "outputs": [],
   "source": [
    "def zero_shot_mlm(e1, e2):\n",
    "    with torch.no_grad():\n",
    "        text = f\"{e1} happens {tokenizer.mask_token} {e2}\"\n",
    "        input = tokenizer(text, return_tensors=\"pt\").to(\"cuda\")\n",
    "        mask_token_index = torch.where(input[\"input_ids\"][0] == tokenizer.mask_token_id)[0]\n",
    "        token_logits = model(**input).logits\n",
    "        mask_token_logits = token_logits[0, mask_token_index, :]\n",
    "        mask_token_softmax = F.softmax(mask_token_logits, dim=1)\n",
    "        max_idx = torch.argmax(mask_token_softmax[0][[relation_token_ids[\"before\"], relation_token_ids[\"after\"], relation_token_ids[\"equal\"]]])\n",
    "        pred_relation = list(relation_token_ids.keys())[max_idx]\n",
    "        return pred_relation"
   ]
  },
  {
   "cell_type": "code",
   "execution_count": 7,
   "metadata": {},
   "outputs": [
    {
     "name": "stderr",
     "output_type": "stream",
     "text": [
      "100%|██████████| 6404/6404 [04:00<00:00, 26.60it/s]\n"
     ]
    }
   ],
   "source": [
    "import json\n",
    "from tqdm import tqdm\n",
    "\n",
    "features_eval = json.load(open(\"../data/valid_text_features_matres.json\", \"r\"))\n",
    "\n",
    "for feat in tqdm(features_eval):\n",
    "    e1 = feat[\"e1\"]\n",
    "    e2 = feat[\"e2\"]\n",
    "    pred_relation = zero_shot_mlm(e1, e2)\n",
    "    feat[\"pred_relation\"] = pred_relation\n"
   ]
  },
  {
   "cell_type": "code",
   "execution_count": 9,
   "metadata": {},
   "outputs": [],
   "source": [
    "features_eval = json.load(open(\"../data/valid_text_features_matres.json\", \"r\"))\n",
    "\n",
    "num_dict = {0: \"before\", 1: \"after\", 2: \"equal\", 3: \"vague\"}\n",
    "pred_2_num = {\"before\":0, \"after\":1, \"equal\":2}\n",
    "\n",
    "pred = [pred_2_num[feat[\"pred_relation\"]] for feat in features_eval]\n",
    "labels = [feat[\"labels\"][0] for feat in features_eval]"
   ]
  },
  {
   "cell_type": "code",
   "execution_count": 14,
   "metadata": {},
   "outputs": [
    {
     "data": {
      "text/plain": [
       "(0.39693941286695816, 0.21949467496720393, 0.39693941286695816)"
      ]
     },
     "execution_count": 14,
     "metadata": {},
     "output_type": "execute_result"
    }
   ],
   "source": [
    "from sklearn.metrics import accuracy_score, f1_score\n",
    "\n",
    "accuracy_score(labels, pred), f1_score(labels, pred, average=\"macro\"), f1_score(labels, pred, average=\"micro\")"
   ]
  },
  {
   "cell_type": "markdown",
   "metadata": {},
   "source": [
    "### Use this to select eval set. Select those predictions are wrong"
   ]
  },
  {
   "cell_type": "code",
   "execution_count": 18,
   "metadata": {},
   "outputs": [],
   "source": [
    "roberta_bias_conflict = [i for i, feat in enumerate(features_eval) if pred_2_num[feat['pred_relation']] != feat[\"labels\"][0]]"
   ]
  },
  {
   "cell_type": "code",
   "execution_count": 22,
   "metadata": {},
   "outputs": [],
   "source": [
    "import numpy as np\n",
    "with open(\"../dataset_bias/valid_text_features_matres_roberta_erp_bias.json\", \"w\") as writer:\n",
    "    json.dump(list(np.array(features_eval)[roberta_bias_conflict]), writer)\n",
    "numerical_eval_features = json.load(open(\"../data/valid_features_matres.json\", \"r\"))\n",
    "with open(\"../dataset_bias/valid_features_matres_roberta_erp_bias.json\", \"w\") as writer:\n",
    "    json.dump(list(np.array(numerical_eval_features)[roberta_bias_conflict]), writer)"
   ]
  },
  {
   "cell_type": "markdown",
   "metadata": {},
   "source": [
    "# 'google/bigbird-roberta-large'"
   ]
  },
  {
   "cell_type": "code",
   "execution_count": 23,
   "metadata": {},
   "outputs": [
    {
     "name": "stderr",
     "output_type": "stream",
     "text": [
      "Some weights of the model checkpoint at google/bigbird-roberta-large were not used when initializing BigBirdForMaskedLM: ['cls.seq_relationship.bias', 'cls.seq_relationship.weight']\n",
      "- This IS expected if you are initializing BigBirdForMaskedLM from the checkpoint of a model trained on another task or with another architecture (e.g. initializing a BertForSequenceClassification model from a BertForPreTraining model).\n",
      "- This IS NOT expected if you are initializing BigBirdForMaskedLM from the checkpoint of a model that you expect to be exactly identical (initializing a BertForSequenceClassification model from a BertForSequenceClassification model).\n"
     ]
    }
   ],
   "source": [
    "import gc\n",
    "del model\n",
    "gc.collect()\n",
    "tokenizer = AutoTokenizer.from_pretrained('google/bigbird-roberta-large')\n",
    "model = AutoModelForMaskedLM.from_pretrained('google/bigbird-roberta-large').to(\"cuda\")"
   ]
  },
  {
   "cell_type": "code",
   "execution_count": 24,
   "metadata": {},
   "outputs": [
    {
     "name": "stderr",
     "output_type": "stream",
     "text": [
      "  0%|          | 0/6404 [00:00<?, ?it/s]Attention type 'block_sparse' is not possible if sequence_length: 6 <= num global tokens: 2 * config.block_size + min. num sliding tokens: 3 * config.block_size + config.num_random_blocks * config.block_size + additional buffer: config.num_random_blocks * config.block_size = 704 with config.block_size = 64, config.num_random_blocks = 3. Changing attention type to 'original_full'...\n",
      "100%|██████████| 6404/6404 [04:36<00:00, 23.13it/s]\n"
     ]
    }
   ],
   "source": [
    "import json\n",
    "from tqdm import tqdm\n",
    "\n",
    "# features_eval = json.load(open(\"../data/valid_text_features_matres.json\", \"r\"))\n",
    "\n",
    "for feat in tqdm(features_eval):\n",
    "    e1 = feat[\"e1\"]\n",
    "    e2 = feat[\"e2\"]\n",
    "    pred_relation = zero_shot_mlm(e1, e2)\n",
    "    feat[\"pred_relation_bigbird\"] = pred_relation\n"
   ]
  },
  {
   "cell_type": "code",
   "execution_count": 25,
   "metadata": {},
   "outputs": [
    {
     "data": {
      "text/plain": [
       "(0.35446595877576514, 0.14704040903554233, 0.3544659587757651)"
      ]
     },
     "execution_count": 25,
     "metadata": {},
     "output_type": "execute_result"
    }
   ],
   "source": [
    "from sklearn.metrics import accuracy_score, f1_score\n",
    "\n",
    "pred_bigbird = [pred_2_num[feat[\"pred_relation_bigbird\"]] for feat in features_eval]\n",
    "accuracy_score(labels, pred_bigbird), f1_score(labels, pred_bigbird, average=\"macro\"), f1_score(labels, pred_bigbird, average=\"micro\")"
   ]
  },
  {
   "cell_type": "code",
   "execution_count": 26,
   "metadata": {},
   "outputs": [],
   "source": [
    "bigbird_bias_conflict = [i for i, feat in enumerate(features_eval) if pred_2_num[feat['pred_relation_bigbird']] != feat[\"labels\"][0]]\n",
    "with open(\"../dataset_bias/valid_features_matres_bigbird_erp_bias.json\", \"w\") as writer:\n",
    "    json.dump(list(np.array(numerical_eval_features)[bigbird_bias_conflict]), writer)"
   ]
  },
  {
   "cell_type": "code",
   "execution_count": 27,
   "metadata": {},
   "outputs": [
    {
     "name": "stdout",
     "output_type": "stream",
     "text": [
      "2969\n"
     ]
    }
   ],
   "source": [
    "# both incorrect\n",
    "\n",
    "both_bias_conflict = [i for i, feat in enumerate(features_eval) if pred_2_num[feat['pred_relation_bigbird']] != feat[\"labels\"][0] and pred_2_num[feat['pred_relation']] != feat[\"labels\"][0]]\n",
    "print(len(both_bias_conflict))                      \n",
    "with open(\"../dataset_bias/valid_features_matres_both_erp_bias.json\", \"w\") as writer:\n",
    "    json.dump(list(np.array(numerical_eval_features)[both_bias_conflict]), writer)"
   ]
  },
  {
   "cell_type": "markdown",
   "metadata": {},
   "source": [
    "# GPT-2"
   ]
  },
  {
   "cell_type": "code",
   "execution_count": 3,
   "metadata": {},
   "outputs": [],
   "source": [
    "from transformers import AutoModelForCausalLM\n",
    "\n",
    "tokenizer = AutoTokenizer.from_pretrained('gpt2-large')\n",
    "tokenizer.add_special_tokens({'pad_token': '[PAD]'})\n",
    "\n",
    "model =  AutoModelForCausalLM.from_pretrained('gpt2-large').to(\"cuda\")\n"
   ]
  },
  {
   "cell_type": "code",
   "execution_count": 5,
   "metadata": {},
   "outputs": [],
   "source": [
    "import json\n",
    "features_eval = json.load(open(\"../data/valid_text_features_matres.json\", \"r\"))\n",
    "\n",
    "num_dict = {0: \"before\", 1: \"after\", 2: \"equal\", 3: \"vague\"}\n",
    "pred_2_num = {\"before\":0, \"after\":1, \"equal\":2}"
   ]
  },
  {
   "cell_type": "code",
   "execution_count": 55,
   "metadata": {},
   "outputs": [],
   "source": [
    "cr_loss = torch.nn.functional.cross_entropy\n",
    "def get_perplexity(text):\n",
    "    with torch.no_grad():\n",
    "        input = tokenizer(text, return_tensors=\"pt\", padding=\"longest\").to(\"cuda\")\n",
    "        ids = input[\"input_ids\"]\n",
    "        mask = input[\"attention_mask\"]\n",
    "\n",
    "        input[\"labels\"] = input[\"input_ids\"]\n",
    "\n",
    "        outputs = model(**input)\n",
    "\n",
    "        shift_logits = outputs[1][..., :-1, :].contiguous().view(-1,outputs[1].size(-1))\n",
    "        shift_labels = ids[..., 1:].contiguous().view(-1)\n",
    "            \n",
    "        loss = cr_loss(shift_logits, shift_labels, \n",
    "                    ignore_index=tokenizer.pad_token_id, reduction=\"none\").view(ids.size(0), -1)\n",
    "\n",
    "        loss = torch.div(torch.sum(loss, dim=1), torch.sum(mask[:, 1:], dim=1))\n",
    "\n",
    "    return loss.cpu().tolist()"
   ]
  },
  {
   "cell_type": "code",
   "execution_count": 8,
   "metadata": {},
   "outputs": [],
   "source": [
    "temp_rel_relations = {\"before\":\"before\", \"after\":\"after\", \"equal\":\"during\"}\n",
    "def zero_shot_gpt2(e1, e2):\n",
    "   with torch.no_grad():\n",
    "      text = [f\"{e1} happens {r} {e2}\" for r in temp_rel_relations.values()]\n",
    "      loss = get_perplexity(text)\n",
    "      max_idx = np.argmin(loss) # get the smallest loss\n",
    "      pred_relation = list(temp_rel_relations.keys())[max_idx]\n",
    "      return pred_relation"
   ]
  },
  {
   "cell_type": "code",
   "execution_count": 9,
   "metadata": {},
   "outputs": [
    {
     "data": {
      "text/plain": [
       "[9.072517395019531, 9.05626106262207, 9.474804878234863]"
      ]
     },
     "execution_count": 9,
     "metadata": {},
     "output_type": "execute_result"
    }
   ],
   "source": [
    "e1 = \"arrest\"\n",
    "e2 = \"kill\"\n",
    "text = [f\"{e1} happens {r} {e2}\" for r in temp_rel_relations.values()]\n",
    "input = tokenizer(text, return_tensors=\"pt\", padding=\"longest\").to(\"cuda\")\n",
    "get_perplexity(text)"
   ]
  },
  {
   "cell_type": "code",
   "execution_count": 84,
   "metadata": {},
   "outputs": [],
   "source": []
  },
  {
   "cell_type": "code",
   "execution_count": 11,
   "metadata": {},
   "outputs": [
    {
     "name": "stderr",
     "output_type": "stream",
     "text": [
      "100%|██████████| 6404/6404 [04:37<00:00, 23.09it/s]\n"
     ]
    }
   ],
   "source": [
    "import json\n",
    "import numpy as np\n",
    "from tqdm import tqdm\n",
    "\n",
    "for feat in tqdm(features_eval):\n",
    "    e1 = feat[\"e1\"]\n",
    "    e2 = feat[\"e2\"]\n",
    "    pred_relation = zero_shot_gpt2(e1, e2)\n",
    "    feat[\"pred_relation_gpt2\"] = pred_relation\n"
   ]
  },
  {
   "cell_type": "code",
   "execution_count": 14,
   "metadata": {},
   "outputs": [
    {
     "data": {
      "text/plain": [
       "(0.36961274203622735, 0.21597823874693078, 0.3696127420362274)"
      ]
     },
     "execution_count": 14,
     "metadata": {},
     "output_type": "execute_result"
    }
   ],
   "source": [
    "from sklearn.metrics import accuracy_score, f1_score\n",
    "labels = [feat[\"labels\"][0] for feat in features_eval]\n",
    "pred_gpt2 = [pred_2_num[feat[\"pred_relation_gpt2\"]] for feat in features_eval]\n",
    "accuracy_score(labels, pred_gpt2), f1_score(labels, pred_gpt2, average=\"macro\"), f1_score(labels, pred_gpt2, average=\"micro\")"
   ]
  },
  {
   "cell_type": "code",
   "execution_count": 86,
   "metadata": {},
   "outputs": [
    {
     "data": {
      "text/plain": [
       "(0.36961274203622735, 0.21597823874693078, 0.3696127420362274)"
      ]
     },
     "execution_count": 86,
     "metadata": {},
     "output_type": "execute_result"
    }
   ],
   "source": [
    "pred_gpt2 = [pred_2_num[feat[\"pred_relation_gpt2\"]] for feat in features_eval]\n",
    "accuracy_score(labels, pred_gpt2), f1_score(labels, pred_gpt2, average=\"macro\"), f1_score(labels, pred_gpt2, average=\"micro\")"
   ]
  },
  {
   "cell_type": "code",
   "execution_count": null,
   "metadata": {},
   "outputs": [],
   "source": [
    "all_bias_conflict = [i for i, feat in enumerate(features_eval) if pred_2_num[feat['pred_relation_bigbird']] != feat[\"labels\"][0] and pred_2_num[feat['pred_relation']] != feat[\"labels\"][0] and pred_2_num[feat['pred_relation_gpt2']] != feat[\"labels\"][0]]\n",
    "# with open(\"../dataset_bias/valid_features_matres_all_erp_bias.json\", \"w\") as writer:\n",
    "#     json.dump(list(np.array(numerical_eval_features)[all_bias_conflict]), writer)\n",
    "with open(\"../dataset_bias/valid_text_features_matres_all_erp_bias.json\", \"w\") as writer:\n",
    "    json.dump(list(np.array(features_eval)[all_bias_conflict]), writer)"
   ]
  },
  {
   "cell_type": "code",
   "execution_count": 17,
   "metadata": {},
   "outputs": [],
   "source": [
    "gpt2_conflict = [i for i, feat in enumerate(features_eval) if pred_2_num[feat['pred_relation_gpt2']] != feat[\"labels\"][0]]\n",
    "with open(\"../dataset_bias/valid_text_features_matres_gpt2_erp_bias.json\", \"w\") as writer:\n",
    "    json.dump(list(np.array(features_eval)[gpt2_conflict]), writer)"
   ]
  },
  {
   "cell_type": "code",
   "execution_count": null,
   "metadata": {},
   "outputs": [],
   "source": []
  },
  {
   "cell_type": "markdown",
   "metadata": {},
   "source": [
    "# GPT2-xl"
   ]
  },
  {
   "cell_type": "code",
   "execution_count": 19,
   "metadata": {},
   "outputs": [
    {
     "data": {
      "text/plain": [
       "Embedding(50258, 1600)"
      ]
     },
     "execution_count": 19,
     "metadata": {},
     "output_type": "execute_result"
    }
   ],
   "source": [
    "import os\n",
    "os.environ[\"CUDA_LAUNCH_BLOCKING\"] = \"1\"\n",
    "os.environ[\"CUDA_VISIBLE_DEVICES\"] = \"1\"\n",
    "from transformers import AutoTokenizer, AutoModelForCausalLM\n",
    "\n",
    "tokenizer = AutoTokenizer.from_pretrained('gpt2-xl')\n",
    "tokenizer.add_special_tokens({'pad_token': '[PAD]'})\n",
    "\n",
    "model =  AutoModelForCausalLM.from_pretrained('gpt2-xl').to(\"cuda\")\n",
    "model.resize_token_embeddings(len(tokenizer))"
   ]
  },
  {
   "cell_type": "code",
   "execution_count": 2,
   "metadata": {},
   "outputs": [],
   "source": [
    "import json\n",
    "import torch\n",
    "import json\n",
    "import numpy as np\n",
    "from tqdm import tqdm\n",
    "\n",
    "features_eval = json.load(open(\"../data/valid_text_features_matres.json\", \"r\"))\n",
    "\n",
    "num_dict = {0: \"before\", 1: \"after\", 2: \"equal\", 3: \"vague\"}\n",
    "pred_2_num = {\"before\":0, \"after\":1, \"equal\":2}\n",
    "\n",
    "cr_loss = torch.nn.functional.cross_entropy\n",
    "def get_perplexity(text):\n",
    "    with torch.no_grad():\n",
    "        input = tokenizer(text, return_tensors=\"pt\", padding=\"longest\").to(\"cuda\")\n",
    "        ids = input[\"input_ids\"]\n",
    "        mask = input[\"attention_mask\"]\n",
    "\n",
    "        input[\"labels\"] = input[\"input_ids\"].detach().clone()\n",
    "\n",
    "        outputs = model(**input)\n",
    "\n",
    "        shift_logits = outputs[1][..., :-1, :].contiguous().view(-1,outputs[1].size(-1))\n",
    "        shift_labels = ids[..., 1:].contiguous().view(-1)\n",
    "            \n",
    "        loss = cr_loss(shift_logits, shift_labels, \n",
    "                    ignore_index=tokenizer.pad_token_id, reduction=\"none\").view(ids.size(0), -1)\n",
    "\n",
    "        loss = torch.div(torch.sum(loss, dim=1), torch.sum(mask[:, 1:], dim=1))\n",
    "\n",
    "    return loss.cpu().tolist()\n",
    "\n",
    "temp_rel_relations = {\"before\":\"before\", \"after\":\"after\", \"equal\":\"during\"}\n",
    "def zero_shot_gpt2(e1, e2):\n",
    "   with torch.no_grad():\n",
    "      text = [f\"{e1} happens {r} {e2}\" for r in temp_rel_relations.values()]\n",
    "      loss = get_perplexity(text)\n",
    "      max_idx = np.argmin(loss) # get the smallest loss\n",
    "      pred_relation = list(temp_rel_relations.keys())[max_idx]\n",
    "      return pred_relation\n",
    "def zero_shot_gpt2_softmax(e1, e2):\n",
    "   with torch.no_grad():\n",
    "      text = [f\"{e1} happens {r} {e2}\" for r in temp_rel_relations.values()]\n",
    "      loss = get_perplexity(text)\n",
    "      max_idx = np.argmin(loss) # get the smallest loss\n",
    "      pred_relation = list(temp_rel_relations.keys())[max_idx]\n",
    "      return pred_relation"
   ]
  },
  {
   "cell_type": "code",
   "execution_count": 3,
   "metadata": {},
   "outputs": [],
   "source": [
    "features_eval = json.load(open(\"../data/valid_subset_text.json\", \"r\"))"
   ]
  },
  {
   "cell_type": "code",
   "execution_count": null,
   "metadata": {},
   "outputs": [],
   "source": [
    "# 1. simple perplexity\n",
    "for feat in tqdm(features_eval):\n",
    "    e1 = feat[\"e1\"]\n",
    "    e2 = feat[\"e2\"]\n",
    "    pred_relation = zero_shot_gpt2(e1, e2)\n",
    "    feat[\"pred_relation_gpt2_xl\"] = pred_relation\n"
   ]
  },
  {
   "cell_type": "code",
   "execution_count": 20,
   "metadata": {},
   "outputs": [
    {
     "name": "stderr",
     "output_type": "stream",
     "text": [
      "100%|█████████████████████████████████████████████████████████████████████████████████████████████████████████████████████████████████████████████| 1000/1000 [01:26<00:00, 11.50it/s]\n"
     ]
    }
   ],
   "source": [
    "# 2. get new probabilities\n",
    "\n",
    "\n",
    "for feat in tqdm(features_eval):\n",
    "\n",
    "    e1 = feat[\"e1\"]\n",
    "    e2 = feat[\"e2\"]\n",
    "    text = [f\"{e1} happens {r} {e2}\" for r in temp_rel_relations.values()] + [f\"{e2} happens {r} {e1}\" for r in temp_rel_relations.values()]\n",
    "    ppls = get_perplexity(text)\n",
    "    p = {\n",
    "        \"before\": np.exp(-ppls[0]) + np.exp(-ppls[4]),\n",
    "        \"after\": np.exp(-ppls[1]) + np.exp(-ppls[3]),\n",
    "        \"equal\": np.exp(-ppls[2]) + np.exp(-ppls[5])\n",
    "    }\n",
    "    feat[\"ppls_gpt2_xl\"] = json.dumps(p)\n",
    "    \n"
   ]
  },
  {
   "cell_type": "code",
   "execution_count": 15,
   "metadata": {},
   "outputs": [],
   "source": [
    "def get_pred_ppl(feat):\n",
    "    return sorted(json.loads(feat[\"ppls_gpt2_xl\"]).items(), key=lambda x:x[1], reverse=True)[0][0]"
   ]
  },
  {
   "cell_type": "code",
   "execution_count": 23,
   "metadata": {},
   "outputs": [],
   "source": [
    "gpt2xl_pred = [pred_2_num[get_pred_ppl(feat)] for feat in features_eval]\n",
    "labels = [feat[\"labels\"][0] for feat in features_eval]"
   ]
  },
  {
   "cell_type": "code",
   "execution_count": 25,
   "metadata": {},
   "outputs": [
    {
     "name": "stdout",
     "output_type": "stream",
     "text": [
      "original\n",
      "0.19001982690285615 0.34\n"
     ]
    }
   ],
   "source": [
    "# original accuracy\n",
    "from sklearn.metrics import f1_score, accuracy_score, classification_report\n",
    "\n",
    "print(\"original\")\n",
    "print(f1_score(labels, gpt2xl_pred, average='macro'), f1_score(labels, gpt2xl_pred, average=\"micro\"))\n"
   ]
  },
  {
   "cell_type": "code",
   "execution_count": 26,
   "metadata": {},
   "outputs": [],
   "source": [
    "gpt2xl_subset_idx = [i for i in range(len(labels)) if gpt2xl_pred[i]!=labels[i]]\n",
    "np.save(\"gpt2xl_subset_idx\", gpt2xl_subset_idx)"
   ]
  },
  {
   "cell_type": "code",
   "execution_count": 45,
   "metadata": {},
   "outputs": [
    {
     "name": "stdout",
     "output_type": "stream",
     "text": [
      "148\n"
     ]
    }
   ],
   "source": [
    "gpt2xl_subset_idx_hard = [i for i in range(len(labels)) \\\n",
    "                if gpt2xl_pred[i]!=labels[i] and sorted(features_eval[i][\"gpt2xl_ppl_norm\"].values())[-1] - sorted(features_eval[i][\"gpt2xl_ppl_norm\"].values())[0] > 0.15]\n",
    "print(len(gpt2xl_subset_idx_hard))\n",
    "np.save(\"gpt2xl_subset_idx_hard\", gpt2xl_subset_idx_hard)\n"
   ]
  },
  {
   "cell_type": "code",
   "execution_count": 31,
   "metadata": {},
   "outputs": [
    {
     "name": "stderr",
     "output_type": "stream",
     "text": [
      "100%|██████████████████████████████████████████████████████████████████████████████████████████████████████████████████████████████████████████| 1000/1000 [00:00<00:00, 25696.93it/s]\n"
     ]
    }
   ],
   "source": [
    "for feat in tqdm(features_eval):\n",
    "    feat[\"gpt2xl_ppl_norm\"] = dict([(key, val/sum(json.loads(feat[\"ppls_gpt2_xl\"]).values()) ) for key, val in json.loads(feat[\"ppls_gpt2_xl\"]).items()])\n",
    "    "
   ]
  },
  {
   "cell_type": "code",
   "execution_count": 39,
   "metadata": {},
   "outputs": [
    {
     "data": {
      "image/png": "[encoded data removed]",
      "text/plain": [
       "<Figure size 640x480 with 1 Axes>"
      ]
     },
     "metadata": {},
     "output_type": "display_data"
    }
   ],
   "source": [
    "from matplotlib import pyplot as plt\n",
    "plt.hist([sorted(features_eval[i][\"gpt2xl_ppl_norm\"].values())[-1] - sorted(features_eval[i][\"gpt2xl_ppl_norm\"].values())[0] for i in range(len(features_eval))] )\n",
    "plt.show()"
   ]
  },
  {
   "cell_type": "markdown",
   "metadata": {},
   "source": [
    "### training set"
   ]
  },
  {
   "cell_type": "code",
   "execution_count": 47,
   "metadata": {},
   "outputs": [
    {
     "name": "stderr",
     "output_type": "stream",
     "text": [
      "100%|█████████████████████████████████████████████████████████████████████████████████████████████████████████████████████████████████████████████| 6336/6336 [08:56<00:00, 11.81it/s]\n"
     ]
    }
   ],
   "source": [
    "# training set\n",
    "\n",
    "train_features_text = json.load(open(\"../data/train_text_features_matres.json\"))\n",
    "\n",
    "for feat in tqdm(train_features_text):\n",
    "\n",
    "    e1 = feat[\"e1\"]\n",
    "    e2 = feat[\"e2\"]\n",
    "    text = [f\"{e1} happens {r} {e2}\" for r in temp_rel_relations.values()] + [f\"{e2} happens {r} {e1}\" for r in temp_rel_relations.values()]\n",
    "    ppls = get_perplexity(text)\n",
    "    p = {\n",
    "        \"before\": np.exp(-ppls[0]) + np.exp(-ppls[4]),\n",
    "        \"after\": np.exp(-ppls[1]) + np.exp(-ppls[3]),\n",
    "        \"equal\": np.exp(-ppls[2]) + np.exp(-ppls[5])\n",
    "    }\n",
    "    feat[\"ppls_gpt2_xl\"] = json.dumps(p)"
   ]
  },
  {
   "cell_type": "code",
   "execution_count": 50,
   "metadata": {},
   "outputs": [
    {
     "name": "stderr",
     "output_type": "stream",
     "text": [
      "100%|██████████████████████████████████████████████████████████████████████████████████████████████████████████████████████████████████████████| 6336/6336 [00:00<00:00, 40965.52it/s]\n"
     ]
    },
    {
     "data": {
      "image/png": "[encoded data removed]",
      "text/plain": [
       "<Figure size 640x480 with 1 Axes>"
      ]
     },
     "metadata": {},
     "output_type": "display_data"
    }
   ],
   "source": [
    "for feat in tqdm(train_features_text):\n",
    "    feat[\"gpt2xl_ppl_norm\"] = dict([(key, val/sum(json.loads(feat[\"ppls_gpt2_xl\"]).values()) ) for key, val in json.loads(feat[\"ppls_gpt2_xl\"]).items()])\n",
    "    \n",
    "\n",
    "plt.hist([sorted(train_features_text[i][\"gpt2xl_ppl_norm\"].values())[-1] - sorted(train_features_text[i][\"gpt2xl_ppl_norm\"].values())[0] for i in range(len(train_features_text))] )\n",
    "plt.show()"
   ]
  },
  {
   "cell_type": "code",
   "execution_count": 51,
   "metadata": {},
   "outputs": [
    {
     "name": "stdout",
     "output_type": "stream",
     "text": [
      "875\n"
     ]
    }
   ],
   "source": [
    "labels_train = [feat[\"labels\"][0] for feat in train_features_text]\n",
    "gpt2xl_pred_train = [pred_2_num[get_pred_ppl(feat)] for feat in train_features_text]\n",
    "\n",
    "gpt2xl_subset_idx_hard_train = [i for i in range(len(train_features_text)) \\\n",
    "                if gpt2xl_pred_train[i]!=labels_train[i] and sorted(train_features_text[i][\"gpt2xl_ppl_norm\"].values())[-1] - sorted(train_features_text[i][\"gpt2xl_ppl_norm\"].values())[0] > 0.15]\n",
    "print(len(gpt2xl_subset_idx_hard_train))\n",
    "np.save(\"gpt2xl_subset_idx_hard_train\", gpt2xl_subset_idx_hard_train)\n"
   ]
  },
  {
   "cell_type": "code",
   "execution_count": null,
   "metadata": {},
   "outputs": [],
   "source": []
  }
 ],
 "metadata": {
  "kernelspec": {
   "display_name": "Python 3 (ipykernel)",
   "language": "python",
   "name": "python3"
  },
  "language_info": {
   "codemirror_mode": {
    "name": "ipython",
    "version": 3
   },
   "file_extension": ".py",
   "mimetype": "text/x-python",
   "name": "python",
   "nbconvert_exporter": "python",
   "pygments_lexer": "ipython3",
   "version": "3.8.13"
  }
 },
 "nbformat": 4,
 "nbformat_minor": 2
}
