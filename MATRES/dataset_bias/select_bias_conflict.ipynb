{
 "cells": [
  {
   "cell_type": "code",
   "execution_count": 1,
   "id": "cc925b9d",
   "metadata": {},
   "outputs": [],
   "source": [
    "import json\n",
    "import numpy as np\n",
    "import spacy\n",
    "\n",
    "nlp = spacy.load(\"en_core_web_sm\")\n",
    "\n",
    "valid_data = json.load(open(\"../data/valid_text_features_matres.json\"))\n",
    "valid_data_ids = json.load(open(\"../data/valid_features_matres.json\"))\n",
    "num_dict = {0: \"before\", 1: \"after\", 2: \"equal\", 3: \"vague\"}\n",
    "ht_prob_dict = np.load(\"./ht_prob_dict.npy\", allow_pickle=True)[()]"
   ]
  },
  {
   "cell_type": "code",
   "execution_count": 5,
   "id": "cbc8d957",
   "metadata": {},
   "outputs": [
    {
     "data": {
      "text/plain": [
       "Counter({1: 6404})"
      ]
     },
     "execution_count": 5,
     "metadata": {},
     "output_type": "execute_result"
    }
   ],
   "source": [
    "from collections import Counter\n",
    "Counter([len([num_dict[l] for l in item['labels']]) for item in valid_data])"
   ]
  },
  {
   "cell_type": "code",
   "execution_count": 8,
   "id": "3559a3af",
   "metadata": {},
   "outputs": [
    {
     "data": {
      "text/plain": [
       "({'before': 1.0, 'after': 0.0, 'equal': 0.0}, 1)"
      ]
     },
     "execution_count": 8,
     "metadata": {},
     "output_type": "execute_result"
    }
   ],
   "source": [
    "ht_prob_dict[()][('predict', 'try')]"
   ]
  },
  {
   "cell_type": "code",
   "execution_count": null,
   "id": "c5f4890b",
   "metadata": {},
   "outputs": [],
   "source": []
  },
  {
   "cell_type": "markdown",
   "id": "3bbc46ef",
   "metadata": {},
   "source": [
    "# 1. ht bias"
   ]
  },
  {
   "cell_type": "code",
   "execution_count": 14,
   "id": "3a837b16",
   "metadata": {},
   "outputs": [
    {
     "name": "stderr",
     "output_type": "stream",
     "text": [
      "100%|███████████████████████████████████████████████████████████████████████████████████████████████████████████████████████████████████████████████████████████████████| 6404/6404 [01:01<00:00, 103.68it/s]\n"
     ]
    }
   ],
   "source": [
    "from tqdm import tqdm\n",
    "\n",
    "selected_items = []\n",
    "ht_freq_dict = {}\n",
    "for item in tqdm(valid_data):\n",
    "    h = nlp(item['e1'])[0].lemma_\n",
    "    t = nlp(item['e2'])[0].lemma_\n",
    "    rs = [num_dict[l] for l in item['labels']]\n",
    "    assert len(rs) == 1\n",
    "    r = rs[0]\n",
    "    prob, freq = ht_prob_dict.get((h, t), ({\"before\":0, \"after\":0, \"equal\":0, \"vague\":0}, 0))\n",
    "    prob = prob.get(r, 1)\n",
    "    \n",
    "    if r in [\"before\", \"after\"]:\n",
    "        if prob < 0.3 and freq > 2:\n",
    "            selected_items.append(item)\n",
    "    if r == \"equal\":\n",
    "        if prob < 0.1 and freq > 2: \n",
    "            selected_items.append(item)"
   ]
  },
  {
   "cell_type": "code",
   "execution_count": 15,
   "id": "4187ee39",
   "metadata": {
    "scrolled": true
   },
   "outputs": [
    {
     "data": {
      "text/plain": [
       "128"
      ]
     },
     "execution_count": 15,
     "metadata": {},
     "output_type": "execute_result"
    }
   ],
   "source": [
    "len(selected_items)"
   ]
  },
  {
   "cell_type": "code",
   "execution_count": null,
   "id": "9b1bd786",
   "metadata": {},
   "outputs": [],
   "source": [
    "with open('./valid_text_features_matres_erp_bias.json', 'w') as writer:\n",
    "    json.dump(tense_selected_items, writer) "
   ]
  },
  {
   "cell_type": "markdown",
   "id": "a4b26bf5",
   "metadata": {},
   "source": [
    "# 2. tense bias"
   ]
  },
  {
   "cell_type": "code",
   "execution_count": 16,
   "id": "b8f3ea4d",
   "metadata": {},
   "outputs": [],
   "source": [
    "tense_prob_dict = np.load(\"./tense_prob_dict.npy\", allow_pickle=True)[()]"
   ]
  },
  {
   "cell_type": "code",
   "execution_count": 17,
   "id": "7e911264",
   "metadata": {},
   "outputs": [
    {
     "data": {
      "text/plain": [
       "{('VBN',\n",
       "  'VBN'): ({'before': 0.47752808988764045,\n",
       "   'after': 0.47752808988764045,\n",
       "   'equal': 0.0449438202247191}, 534),\n",
       " ('VBN',\n",
       "  'VB'): ({'before': 0.7986577181208053,\n",
       "   'after': 0.1610738255033557,\n",
       "   'equal': 0.040268456375838924}, 149),\n",
       " ('VBN',\n",
       "  'VBZ'): ({'before': 0.6629213483146067,\n",
       "   'after': 0.30337078651685395,\n",
       "   'equal': 0.033707865168539325}, 178),\n",
       " ('VB',\n",
       "  'VBZ'): ({'before': 0.25,\n",
       "   'after': 0.6818181818181818,\n",
       "   'equal': 0.06818181818181818}, 44),\n",
       " ('VBZ',\n",
       "  'VBN'): ({'before': 0.30337078651685395,\n",
       "   'after': 0.6629213483146067,\n",
       "   'equal': 0.033707865168539325}, 178),\n",
       " ('VBZ',\n",
       "  'VBD'): ({'before': 0.5120274914089347,\n",
       "   'after': 0.44329896907216493,\n",
       "   'equal': 0.044673539518900345}, 291),\n",
       " ('VBN',\n",
       "  'VBD'): ({'before': 0.6976744186046512,\n",
       "   'after': 0.27906976744186046,\n",
       "   'equal': 0.023255813953488372}, 1032),\n",
       " ('VBD',\n",
       "  'VBD'): ({'before': 0.48053352559480894,\n",
       "   'after': 0.48053352559480894,\n",
       "   'equal': 0.03893294881038212}, 2774),\n",
       " ('VBD',\n",
       "  'VB'): ({'before': 0.7041420118343196,\n",
       "   'after': 0.26627218934911245,\n",
       "   'equal': 0.029585798816568046}, 338),\n",
       " ('VB',\n",
       "  'VB'): ({'before': 0.44047619047619047,\n",
       "   'after': 0.44047619047619047,\n",
       "   'equal': 0.11904761904761904}, 84),\n",
       " ('VB',\n",
       "  'VBD'): ({'before': 0.26627218934911245,\n",
       "   'after': 0.7041420118343196,\n",
       "   'equal': 0.029585798816568046}, 338),\n",
       " ('VB',\n",
       "  'VBN'): ({'before': 0.1610738255033557,\n",
       "   'after': 0.7986577181208053,\n",
       "   'equal': 0.040268456375838924}, 149),\n",
       " ('VBD',\n",
       "  'VBN'): ({'before': 0.27906976744186046,\n",
       "   'after': 0.6976744186046512,\n",
       "   'equal': 0.023255813953488372}, 1032),\n",
       " ('VBN',\n",
       "  'VBP'): ({'before': 0.7831325301204819,\n",
       "   'after': 0.18072289156626506,\n",
       "   'equal': 0.03614457831325301}, 83),\n",
       " ('VB',\n",
       "  'VBP'): ({'before': 0.6666666666666666,\n",
       "   'after': 0.2857142857142857,\n",
       "   'equal': 0.047619047619047616}, 21),\n",
       " ('VB', 'JJ'): ({'before': 0.0, 'after': 1.0, 'equal': 0.0}, 3),\n",
       " ('VBP', 'JJ'): ({'before': 0.25, 'after': 0.75, 'equal': 0.0}, 4),\n",
       " ('VBP',\n",
       "  'VBN'): ({'before': 0.18072289156626506,\n",
       "   'after': 0.7831325301204819,\n",
       "   'equal': 0.03614457831325301}, 83),\n",
       " ('JJ',\n",
       "  'VBN'): ({'before': 0.16666666666666666,\n",
       "   'after': 0.8333333333333334,\n",
       "   'equal': 0.0}, 6),\n",
       " ('VBD',\n",
       "  'VBZ'): ({'before': 0.44329896907216493,\n",
       "   'after': 0.5120274914089347,\n",
       "   'equal': 0.044673539518900345}, 291),\n",
       " ('VBG',\n",
       "  'VBZ'): ({'before': 0.5656565656565656,\n",
       "   'after': 0.3939393939393939,\n",
       "   'equal': 0.04040404040404041}, 99),\n",
       " ('VBG',\n",
       "  'VBP'): ({'before': 0.7450980392156863,\n",
       "   'after': 0.19607843137254902,\n",
       "   'equal': 0.058823529411764705}, 51),\n",
       " ('VBZ',\n",
       "  'VBP'): ({'before': 0.37254901960784315,\n",
       "   'after': 0.6078431372549019,\n",
       "   'equal': 0.0196078431372549}, 51),\n",
       " ('VBZ',\n",
       "  'VBZ'): ({'before': 0.4583333333333333,\n",
       "   'after': 0.4583333333333333,\n",
       "   'equal': 0.08333333333333333}, 144),\n",
       " ('VBZ',\n",
       "  'VBG'): ({'before': 0.3939393939393939,\n",
       "   'after': 0.5656565656565656,\n",
       "   'equal': 0.04040404040404041}, 99),\n",
       " ('VBZ', 'NN'): ({'before': 0.0, 'after': 1.0, 'equal': 0.0}, 4),\n",
       " ('VBG',\n",
       "  'NN'): ({'before': 0.1111111111111111,\n",
       "   'after': 0.8888888888888888,\n",
       "   'equal': 0.0}, 9),\n",
       " ('VBG',\n",
       "  'VBN'): ({'before': 0.2815884476534296,\n",
       "   'after': 0.6823104693140795,\n",
       "   'equal': 0.036101083032490974}, 277),\n",
       " ('NN', 'VBN'): ({'before': 0.625, 'after': 0.25, 'equal': 0.125}, 8),\n",
       " ('VBD',\n",
       "  'VBG'): ({'before': 0.38801261829652994,\n",
       "   'after': 0.5678233438485805,\n",
       "   'equal': 0.04416403785488959}, 634),\n",
       " ('VBG',\n",
       "  'VBD'): ({'before': 0.5678233438485805,\n",
       "   'after': 0.38801261829652994,\n",
       "   'equal': 0.04416403785488959}, 634),\n",
       " ('VBG',\n",
       "  'VBG'): ({'before': 0.49514563106796117,\n",
       "   'after': 0.49514563106796117,\n",
       "   'equal': 0.009708737864077669}, 206),\n",
       " ('VBD',\n",
       "  'VBP'): ({'before': 0.4397590361445783,\n",
       "   'after': 0.5180722891566265,\n",
       "   'equal': 0.04216867469879518}, 166),\n",
       " ('VBP',\n",
       "  'VBD'): ({'before': 0.5180722891566265,\n",
       "   'after': 0.4397590361445783,\n",
       "   'equal': 0.04216867469879518}, 166),\n",
       " ('VBZ',\n",
       "  'VB'): ({'before': 0.6818181818181818,\n",
       "   'after': 0.25,\n",
       "   'equal': 0.06818181818181818}, 44),\n",
       " ('VB',\n",
       "  'VBG'): ({'before': 0.34177215189873417,\n",
       "   'after': 0.6075949367088608,\n",
       "   'equal': 0.05063291139240506}, 79),\n",
       " ('VBN',\n",
       "  'VBG'): ({'before': 0.6823104693140795,\n",
       "   'after': 0.2815884476534296,\n",
       "   'equal': 0.036101083032490974}, 277),\n",
       " ('VBG',\n",
       "  'VB'): ({'before': 0.6075949367088608,\n",
       "   'after': 0.34177215189873417,\n",
       "   'equal': 0.05063291139240506}, 79),\n",
       " ('VBD',\n",
       "  'JJ'): ({'before': 0.2692307692307692,\n",
       "   'after': 0.6153846153846154,\n",
       "   'equal': 0.11538461538461539}, 26),\n",
       " ('JJ',\n",
       "  'VBD'): ({'before': 0.6153846153846154,\n",
       "   'after': 0.2692307692307692,\n",
       "   'equal': 0.11538461538461539}, 26),\n",
       " ('VBP',\n",
       "  'VBZ'): ({'before': 0.6078431372549019,\n",
       "   'after': 0.37254901960784315,\n",
       "   'equal': 0.0196078431372549}, 51),\n",
       " ('VBP',\n",
       "  'VBG'): ({'before': 0.19607843137254902,\n",
       "   'after': 0.7450980392156863,\n",
       "   'equal': 0.058823529411764705}, 51),\n",
       " ('VBP',\n",
       "  'VBP'): ({'before': 0.46153846153846156,\n",
       "   'after': 0.46153846153846156,\n",
       "   'equal': 0.07692307692307693}, 26),\n",
       " ('VB', 'NN'): ({'before': 0.0, 'after': 0.8, 'equal': 0.2}, 5),\n",
       " ('NN', 'VB'): ({'before': 0.8, 'after': 0.0, 'equal': 0.2}, 5),\n",
       " ('NN',\n",
       "  'VBG'): ({'before': 0.8888888888888888,\n",
       "   'after': 0.1111111111111111,\n",
       "   'equal': 0.0}, 9),\n",
       " ('NN', 'VBP'): ({'before': 1.0, 'after': 0.0, 'equal': 0.0}, 2),\n",
       " ('VBG',\n",
       "  'JJ'): ({'before': 0.2222222222222222,\n",
       "   'after': 0.7777777777777778,\n",
       "   'equal': 0.0}, 9),\n",
       " ('JJ', 'VBZ'): ({'before': 1.0, 'after': 0.0, 'equal': 0.0}, 2),\n",
       " ('JJ',\n",
       "  'VBG'): ({'before': 0.7777777777777778,\n",
       "   'after': 0.2222222222222222,\n",
       "   'equal': 0.0}, 9),\n",
       " ('VBD', 'NNS'): ({'before': 0.2, 'after': 0.8, 'equal': 0.0}, 5),\n",
       " ('VB', 'NNS'): ({'before': 0.5, 'after': 0.5, 'equal': 0.0}, 2),\n",
       " ('NNS', 'VBD'): ({'before': 0.8, 'after': 0.2, 'equal': 0.0}, 5),\n",
       " ('VBP',\n",
       "  'VB'): ({'before': 0.2857142857142857,\n",
       "   'after': 0.6666666666666666,\n",
       "   'equal': 0.047619047619047616}, 21),\n",
       " ('VBP', 'NN'): ({'before': 0.0, 'after': 1.0, 'equal': 0.0}, 2),\n",
       " ('VBN', 'NN'): ({'before': 0.25, 'after': 0.625, 'equal': 0.125}, 8),\n",
       " ('VBD',\n",
       "  'NN'): ({'before': 0.11764705882352941,\n",
       "   'after': 0.8235294117647058,\n",
       "   'equal': 0.058823529411764705}, 17),\n",
       " ('NN',\n",
       "  'VBD'): ({'before': 0.8235294117647058,\n",
       "   'after': 0.11764705882352941,\n",
       "   'equal': 0.058823529411764705}, 17),\n",
       " ('VBN',\n",
       "  'JJ'): ({'before': 0.8333333333333334,\n",
       "   'after': 0.16666666666666666,\n",
       "   'equal': 0.0}, 6),\n",
       " ('JJ', 'VB'): ({'before': 1.0, 'after': 0.0, 'equal': 0.0}, 3),\n",
       " ('JJ', 'VBP'): ({'before': 0.75, 'after': 0.25, 'equal': 0.0}, 4),\n",
       " ('VBZ', 'JJ'): ({'before': 0.0, 'after': 1.0, 'equal': 0.0}, 2),\n",
       " ('VBZ', 'NNS'): ({'before': 0.5, 'after': 0.5, 'equal': 0.0}, 2),\n",
       " ('NNS', 'VB'): ({'before': 0.5, 'after': 0.5, 'equal': 0.0}, 2),\n",
       " ('NN', 'VBZ'): ({'before': 1.0, 'after': 0.0, 'equal': 0.0}, 4)}"
      ]
     },
     "execution_count": 17,
     "metadata": {},
     "output_type": "execute_result"
    }
   ],
   "source": [
    "tense_prob_dict"
   ]
  },
  {
   "cell_type": "code",
   "execution_count": null,
   "id": "c89512cd",
   "metadata": {
    "scrolled": true
   },
   "outputs": [],
   "source": [
    "tense_selected_items = []\n",
    "tense_selected_items_ids = []\n",
    "\n",
    "for item, item_ids in tqdm(zip(valid_data, valid_data_ids), total=len(valid_data)):\n",
    "    text = item['text'].replace('[CLS]', \"\").replace('[SEP]', \"\").strip()\n",
    "    parsed_text = nlp(text)\n",
    "        \n",
    "    for i in range(len(parsed_text)):\n",
    "        if parsed_text[i].text == item['e1']:\n",
    "            h = parsed_text[i].lemma_\n",
    "            tense_h = parsed_text[i].tag_\n",
    "        if parsed_text[i].text == item['e2']:\n",
    "            t = parsed_text[i].lemma_\n",
    "            tense_t = parsed_text[i].tag_\n",
    "    \n",
    "    rs = [num_dict[l] for l in item['labels']]\n",
    "    assert len(rs) == 1\n",
    "    r = rs[0]\n",
    "    prob, freq = tense_prob_dict.get((tense_h, tense_t), ({\"before\":0, \"after\":0, \"equal\":0, \"vague\":0}, 0))\n",
    "    prob = prob.get(r, 1)\n",
    "    \n",
    "    if r in [\"before\", \"after\"]:\n",
    "        if prob < 0.3 and freq > 2:\n",
    "            tense_selected_items.append(item)\n",
    "            tense_selected_items_ids.append(item_ids)\n",
    "    if r == \"equal\":\n",
    "        if prob < 0.1 and freq > 2: \n",
    "            tense_selected_items.append(item)\n",
    "            tense_selected_items_ids.append(item_ids)"
   ]
  },
  {
   "cell_type": "code",
   "execution_count": 28,
   "id": "ff09b100",
   "metadata": {},
   "outputs": [
    {
     "data": {
      "text/plain": [
       "1093"
      ]
     },
     "execution_count": 28,
     "metadata": {},
     "output_type": "execute_result"
    }
   ],
   "source": [
    "len(tense_selected_items)"
   ]
  },
  {
   "cell_type": "code",
   "execution_count": 23,
   "id": "438c4499",
   "metadata": {},
   "outputs": [
    {
     "data": {
      "text/plain": [
       "{'text': \"[CLS] Gonzalez's arrival should also help clear the way for the Justice Department to make arrangements to transfer custody of the child.[SEP] The Miami relatives have left unclear whether they will willingly relinquish custody of Elian, and have done their best to stir passions against the Justice Department among Cuban-Americans in South Florida.[SEP] In hopes of trumping the law, they have unreasonably demanded that a panel of child psychologists determine Elian's fate.[SEP]\",\n",
       " 'e1': 'left',\n",
       " 'e2': 'stir',\n",
       " 'labels': [2]}"
      ]
     },
     "execution_count": 23,
     "metadata": {},
     "output_type": "execute_result"
    }
   ],
   "source": [
    "# convert to the input_ids forms.\n",
    "\n",
    "tense_selected_items[0]"
   ]
  },
  {
   "cell_type": "code",
   "execution_count": 29,
   "id": "3406a553",
   "metadata": {},
   "outputs": [],
   "source": [
    "with open('./valid_features_matres_tense_bias.json', 'w') as writer:\n",
    "    json.dump(tense_selected_items_ids, writer) "
   ]
  },
  {
   "cell_type": "code",
   "execution_count": null,
   "id": "905ca79b",
   "metadata": {},
   "outputs": [],
   "source": []
  },
  {
   "cell_type": "code",
   "execution_count": null,
   "id": "6d38f1d8",
   "metadata": {},
   "outputs": [],
   "source": []
  },
  {
   "cell_type": "code",
   "execution_count": null,
   "id": "d815dd2f",
   "metadata": {},
   "outputs": [],
   "source": []
  },
  {
   "cell_type": "code",
   "execution_count": null,
   "id": "176781ab",
   "metadata": {},
   "outputs": [],
   "source": []
  },
  {
   "cell_type": "markdown",
   "id": "8a63dc72",
   "metadata": {},
   "source": [
    "# General Reporting Bias by LMs\n",
    "\n",
    "- RoBERTa-large\n",
    "- GPT2-XL"
   ]
  },
  {
   "cell_type": "code",
   "execution_count": 1,
   "id": "a587286b",
   "metadata": {},
   "outputs": [],
   "source": [
    "import os\n",
    "os.environ[\"CUDA_LAUNCH_BLOCKING\"] = \"1\"\n",
    "import torch\n",
    "from transformers import AutoTokenizer, AutoModelForMaskedLM\n",
    "\n",
    "tokenizer = AutoTokenizer.from_pretrained(\"roberta-large\")\n",
    "model = AutoModelForMaskedLM.from_pretrained(\"roberta-large\").to(\"cuda\")"
   ]
  },
  {
   "cell_type": "code",
   "execution_count": 37,
   "id": "f22f735b",
   "metadata": {},
   "outputs": [],
   "source": [
    "import torch.nn.functional as F\n",
    "\n",
    "e1 = \"arrest\"\n",
    "e2 = \"kill\"\n",
    "\n",
    "\n",
    "relation_token_ids = {\"before\":tokenizer.encode(\"before\", add_special_tokens=False)[0],\n",
    "                      \"after\":tokenizer.encode(\"after\", add_special_tokens=False)[0],\n",
    "                      \"equal\":tokenizer.encode(\"during\", add_special_tokens=False)[0]\n",
    "                    }\n",
    "\n",
    "with torch.no_grad():\n",
    "  text = f\"{e1} happens {tokenizer.mask_token} {e2}\"\n",
    "  input = tokenizer(text, return_tensors=\"pt\").to(\"cuda\")\n",
    "  mask_token_index = torch.where(input[\"input_ids\"][0] == tokenizer.mask_token_id)[0]\n",
    "  token_logits = model(**input).logits\n",
    "  mask_token_logits = token_logits[0, mask_token_index, :]\n",
    "  mask_token_softmax = F.softmax(mask_token_logits, dim=1)"
   ]
  },
  {
   "cell_type": "code",
   "execution_count": 39,
   "id": "9db8784b",
   "metadata": {},
   "outputs": [
    {
     "data": {
      "text/plain": [
       "tensor(1, device='cuda:0')"
      ]
     },
     "execution_count": 39,
     "metadata": {},
     "output_type": "execute_result"
    }
   ],
   "source": [
    "torch.argmax(mask_token_softmax[0][[relation_token_ids[\"before\"], relation_token_ids[\"after\"], relation_token_ids[\"equal\"]]])"
   ]
  },
  {
   "cell_type": "code",
   "execution_count": 30,
   "id": "9fc3af47",
   "metadata": {},
   "outputs": [
    {
     "data": {
      "text/plain": [
       "tensor([3.1666e-07, 1.0508e-07, 7.8023e-08], device='cuda:0')"
      ]
     },
     "execution_count": 30,
     "metadata": {},
     "output_type": "execute_result"
    }
   ],
   "source": [
    "mask_token_softmax[0][[relation_token_ids[\"before\"], relation_token_ids[\"after\"], relation_token_ids[\"equal\"]]]"
   ]
  },
  {
   "cell_type": "code",
   "execution_count": 11,
   "id": "78d36b86",
   "metadata": {},
   "outputs": [
    {
     "data": {
      "text/plain": [
       "{'input_ids': tensor([[    0, 16424,  2594, 50264,  2237,     2]]), 'attention_mask': tensor([[1, 1, 1, 1, 1, 1]])}"
      ]
     },
     "execution_count": 11,
     "metadata": {},
     "output_type": "execute_result"
    }
   ],
   "source": [
    "tokenizer(text, return_tensors=\"pt\")"
   ]
  },
  {
   "cell_type": "code",
   "execution_count": null,
   "id": "658bf4e7",
   "metadata": {},
   "outputs": [],
   "source": []
  },
  {
   "cell_type": "markdown",
   "id": "f95b8cac",
   "metadata": {},
   "source": [
    "## acquire from subset"
   ]
  },
  {
   "cell_type": "code",
   "execution_count": 32,
   "id": "1f32b314",
   "metadata": {},
   "outputs": [],
   "source": [
    "features_valid_subset = json.load(open(\"../data/valid_subset_text.json\"))"
   ]
  },
  {
   "cell_type": "code",
   "execution_count": 46,
   "id": "c152128a",
   "metadata": {},
   "outputs": [
    {
     "name": "stderr",
     "output_type": "stream",
     "text": [
      "100%|█████████████████████████████████████████████████████████████████████████████████████████████████████████████████████████████████████████████| 1000/1000 [00:21<00:00, 46.51it/s]\n"
     ]
    }
   ],
   "source": [
    "tense_subset_idx = []\n",
    "\n",
    "for item in tqdm(features_valid_subset):\n",
    "    text = item['text'].replace('[CLS]', \"\").replace('[SEP]', \"\").strip()\n",
    "    parsed_text = nlp(text)\n",
    "        \n",
    "    for i in range(len(parsed_text)):\n",
    "        if parsed_text[i].text == item['e1']:\n",
    "            h = parsed_text[i].lemma_\n",
    "            tense_h = parsed_text[i].tag_\n",
    "        if parsed_text[i].text == item['e2']:\n",
    "            t = parsed_text[i].lemma_\n",
    "            tense_t = parsed_text[i].tag_\n",
    "    \n",
    "    rs = [num_dict[l] for l in item['labels']]\n",
    "    assert len(rs) == 1\n",
    "    r = rs[0]\n",
    "    prob_dict, freq = tense_prob_dict.get((tense_h, tense_t), ({\"before\":0, \"after\":0, \"equal\":0, \"vague\":0}, 0))\n",
    "    prob = prob_dict.get(r, 1)\n",
    "    \n",
    "    if r in [\"before\", \"after\"]:\n",
    "        if prob < 0.3 and freq > 2:\n",
    "            tense_subset_idx.append(item)\n",
    "    if r == \"equal\":\n",
    "        if prob < 0.1 and freq > 2: \n",
    "            tense_subset_idx.append(item)\n",
    "    if r == \"vague\":\n",
    "        if any(prob_dict[r_]>0.6 and freq > 2 for r_ in [\"before\", \"after\", \"equal\"]):\n",
    "            tense_subset_idx.append(item)"
   ]
  },
  {
   "cell_type": "code",
   "execution_count": 38,
   "id": "935ba705",
   "metadata": {},
   "outputs": [],
   "source": [
    "with open('./valid_subset_text_tense_bias.json', 'w') as writer:\n",
    "    json.dump(tense_subset_idx, writer) "
   ]
  },
  {
   "cell_type": "code",
   "execution_count": 50,
   "id": "0947e550",
   "metadata": {},
   "outputs": [],
   "source": [
    "with open('./valid_subset_text_tense_bias_vague.json', 'w') as writer:\n",
    "    json.dump(tense_subset_idx, writer) "
   ]
  },
  {
   "cell_type": "code",
   "execution_count": 49,
   "id": "46fbd6b6",
   "metadata": {},
   "outputs": [
    {
     "data": {
      "text/plain": [
       "210"
      ]
     },
     "execution_count": 49,
     "metadata": {},
     "output_type": "execute_result"
    }
   ],
   "source": [
    "len(tense_subset_idx)"
   ]
  },
  {
   "cell_type": "code",
   "execution_count": null,
   "id": "aac5ea83",
   "metadata": {},
   "outputs": [],
   "source": []
  },
  {
   "cell_type": "code",
   "execution_count": null,
   "id": "20227ff6",
   "metadata": {},
   "outputs": [],
   "source": []
  }
 ],
 "metadata": {
  "kernelspec": {
   "display_name": "Python 3 (ipykernel)",
   "language": "python",
   "name": "python3"
  },
  "language_info": {
   "codemirror_mode": {
    "name": "ipython",
    "version": 3
   },
   "file_extension": ".py",
   "mimetype": "text/x-python",
   "name": "python",
   "nbconvert_exporter": "python",
   "pygments_lexer": "ipython3",
   "version": "3.8.13"
  }
 },
 "nbformat": 4,
 "nbformat_minor": 5
}
