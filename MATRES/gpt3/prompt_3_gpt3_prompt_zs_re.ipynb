{
 "cells": [
  {
   "cell_type": "code",
   "execution_count": 1,
   "id": "43428f1d",
   "metadata": {},
   "outputs": [],
   "source": [
    "import os\n",
    "import openai\n",
    "import time\n",
    "from tqdm import tqdm\n",
    "from sklearn.metrics import f1_score, accuracy_score, classification_report\n",
    "\n",
    "openai.api_key = os.getenv(\"OPENAI_API_KEY\")\n",
    "\n",
    "import json\n",
    "import numpy as np\n",
    "\n",
    "np.random.seed(0)\n",
    "features_valid = json.load(open(\"../data/valid_subset_text.json\"))\n",
    "features_valid_erp = json.load(open(\"../dataset_bias/valid_subset_text_erp.json\"))\n",
    "features_valid_tense_all = json.load(open(\"../dataset_bias/valid_subset_text_tense_bias_vague.json\"))\n",
    "\n",
    "# features_valid_tense_vague = [item for item in features_valid_tense_all if item['labels'][0] == 3]\n",
    "# features_valid_dep = json.load(open(\"../dataset_bias/valid_text_features_matres_dep_bias.json\"))"
   ]
  },
  {
   "cell_type": "code",
   "execution_count": null,
   "id": "e0b60643",
   "metadata": {},
   "outputs": [],
   "source": []
  },
  {
   "cell_type": "markdown",
   "id": "dad34001",
   "metadata": {},
   "source": [
    "# 1. zero_shot\n",
    "\n",
    "\"Determine the temporal order from \\\"{e1}\\\" to \\\"{e2}\\\" in the following sentence: \\\"{context}\\\". Only answer one word from AFTER, BEFORE, EQUAL, VAGUE. Answer:\""
   ]
  },
  {
   "cell_type": "code",
   "execution_count": 18,
   "id": "496bbc39",
   "metadata": {},
   "outputs": [],
   "source": [
    "convert_dict = {'BEFORE':0, 'AFTER':1, 'EQUAL':2, 'VAGUE':3}\n",
    "def parse_result(ans):\n",
    "    return convert_dict.get(ans.upper(), 3)\n"
   ]
  },
  {
   "cell_type": "code",
   "execution_count": 8,
   "id": "7f86eecf",
   "metadata": {},
   "outputs": [
    {
     "name": "stderr",
     "output_type": "stream",
     "text": [
      "100%|███████████████████████████████████████████████████████████████████████████████████████████████████████████████| 1000/1000 [1:04:42<00:00,  3.88s/it]\n"
     ]
    }
   ],
   "source": [
    "zs_results = []\n",
    "for i in tqdm(range(len(features_valid))):\n",
    "    item = features_valid[i]\n",
    "    context = item['text'].replace(\"[CLS]\", \"\").replace(\"[SEP]\", \"\").strip()\n",
    "    e1 = item['e1']\n",
    "    e2 = item['e2']\n",
    "    \n",
    "    prompt = f\"Given the document {context} and a list of temporal relations [before, after, vague, equal] and event triggers {e1} and {e2}. what is the temporal relation between {e1} and {e2}? Answer vague if unsure. Keep the answer short and concise\"\n",
    "#     print(prompt)\n",
    "    while True:\n",
    "        try:\n",
    "            zs_results.append(openai.Completion.create(\n",
    "                        model=\"text-davinci-003\",\n",
    "                        prompt=prompt,\n",
    "                        max_tokens=20,\n",
    "                        temperature=0\n",
    "            ))\n",
    "            break\n",
    "        except:\n",
    "            time.sleep(10)\n",
    "    time.sleep(2)\n",
    "#     break"
   ]
  },
  {
   "cell_type": "code",
   "execution_count": null,
   "id": "9a35ef75",
   "metadata": {},
   "outputs": [],
   "source": [
    "zs_results[0]"
   ]
  },
  {
   "cell_type": "code",
   "execution_count": 23,
   "id": "cac25fbc",
   "metadata": {},
   "outputs": [
    {
     "data": {
      "text/plain": [
       "Counter({'Vague': 935,\n",
       "         '': 32,\n",
       "         'After': 19,\n",
       "         'Equal': 4,\n",
       "         ' Vague': 1,\n",
       "         'Before': 7,\n",
       "         'equal': 1,\n",
       "         'vague': 1})"
      ]
     },
     "execution_count": 23,
     "metadata": {},
     "output_type": "execute_result"
    }
   ],
   "source": [
    "Counter([item['choices'][0]['text'].strip().replace(\".\", \"\").replace(\"\\n\", \"\") for item in zs_results])"
   ]
  },
  {
   "cell_type": "code",
   "execution_count": 20,
   "id": "7f2fd387",
   "metadata": {},
   "outputs": [],
   "source": [
    "ze_preds = [parse_result(item['choices'][0]['text'].strip().replace(\".\", \"\").replace(\"\\n\", \"\")) for item in zs_results]"
   ]
  },
  {
   "cell_type": "code",
   "execution_count": 21,
   "id": "91fd22e9",
   "metadata": {},
   "outputs": [
    {
     "data": {
      "text/plain": [
       "Counter({3: 969, 1: 19, 2: 5, 0: 7})"
      ]
     },
     "execution_count": 21,
     "metadata": {},
     "output_type": "execute_result"
    }
   ],
   "source": [
    "from collections import Counter\n",
    "Counter(ze_preds)"
   ]
  },
  {
   "cell_type": "code",
   "execution_count": 31,
   "id": "fa711436",
   "metadata": {},
   "outputs": [
    {
     "data": {
      "text/plain": [
       "Counter({'BEFORE': 998, 'EQUAL': 2})"
      ]
     },
     "execution_count": 31,
     "metadata": {},
     "output_type": "execute_result"
    }
   ],
   "source": [
    "from collections import Counter\n",
    "Counter([item['choices'][0]['text'].strip() for item in zs_results])"
   ]
  },
  {
   "cell_type": "code",
   "execution_count": 22,
   "id": "67daf582",
   "metadata": {},
   "outputs": [
    {
     "name": "stdout",
     "output_type": "stream",
     "text": [
      "0.05891182029303557 0.11200000000000002\n"
     ]
    }
   ],
   "source": [
    "labels = [features_valid[i]['labels'][0] for i in range(len(features_valid))]\n",
    "\n",
    "print(f1_score(labels, ze_preds, average='macro'), f1_score(labels, ze_preds, average=\"micro\"))"
   ]
  },
  {
   "cell_type": "markdown",
   "id": "d207ba08",
   "metadata": {},
   "source": [
    "# new"
   ]
  },
  {
   "cell_type": "code",
   "execution_count": 27,
   "id": "4316c3a9",
   "metadata": {},
   "outputs": [
    {
     "name": "stderr",
     "output_type": "stream",
     "text": [
      "100%|█████████████████████████████████████████████████████████████████████████████████████████████████████████████████| 1000/1000 [52:34<00:00,  3.15s/it]\n"
     ]
    }
   ],
   "source": [
    "zs_results_new = []\n",
    "for i in tqdm(range(len(features_valid))):\n",
    "# for i in tqdm(range(100)):\n",
    "    item = features_valid[i]\n",
    "    context = item['text'].replace(\"[CLS]\", \"\").replace(\"[SEP]\", \"\").strip()\n",
    "    e1 = item['e1']\n",
    "    e2 = item['e2']\n",
    "    \n",
    "    prompt = f\"Given the document {context} and a list of temporal relations [before, after, vague, equal] and event triggers {e1} and {e2}. what is the temporal relation between {e1} and {e2}? Select from the temporal relation list. Keep the answer short and concise\"\n",
    "#     print(prompt)\n",
    "    while True:\n",
    "        try:\n",
    "            zs_results_new.append(openai.Completion.create(\n",
    "                        model=\"text-davinci-003\",\n",
    "                        prompt=prompt,\n",
    "                        max_tokens=20,\n",
    "                        temperature=0\n",
    "            ))\n",
    "            break\n",
    "        except:\n",
    "            time.sleep(10)\n",
    "    time.sleep(2)\n",
    "#     break"
   ]
  },
  {
   "cell_type": "code",
   "execution_count": 28,
   "id": "d7736237",
   "metadata": {},
   "outputs": [
    {
     "data": {
      "text/plain": [
       "Counter({'Equal': 569, 'Vague': 115, 'After': 261, 'Before': 55})"
      ]
     },
     "execution_count": 28,
     "metadata": {},
     "output_type": "execute_result"
    }
   ],
   "source": [
    "Counter([item['choices'][0]['text'].strip().replace(\".\", \"\").replace(\"\\n\", \"\") for item in zs_results_new])"
   ]
  },
  {
   "cell_type": "code",
   "execution_count": 29,
   "id": "f77914d3",
   "metadata": {},
   "outputs": [
    {
     "name": "stdout",
     "output_type": "stream",
     "text": [
      "0.1302917258119143 0.134\n"
     ]
    }
   ],
   "source": [
    "labels = [features_valid[i]['labels'][0] for i in range(len(features_valid))]\n",
    "ze_preds_new = [parse_result(item['choices'][0]['text'].strip().replace(\".\", \"\").replace(\"\\n\", \"\")) for item in zs_results_new]\n",
    "\n",
    "print(f1_score(labels, ze_preds_new, average='macro'), f1_score(labels, ze_preds_new, average=\"micro\"))\n"
   ]
  },
  {
   "cell_type": "code",
   "execution_count": 31,
   "id": "e2d1a19f",
   "metadata": {},
   "outputs": [],
   "source": [
    "with open(\"prompts/prompt_3_zeroshot_new.json\", \"w\") as writer:\n",
    "    json.dump(ze_preds_new, writer)"
   ]
  },
  {
   "cell_type": "code",
   "execution_count": null,
   "id": "df97bad1",
   "metadata": {},
   "outputs": [],
   "source": []
  },
  {
   "cell_type": "code",
   "execution_count": null,
   "id": "11d976a6",
   "metadata": {},
   "outputs": [],
   "source": []
  }
 ],
 "metadata": {
  "kernelspec": {
   "display_name": "Python 3 (ipykernel)",
   "language": "python",
   "name": "python3"
  },
  "language_info": {
   "codemirror_mode": {
    "name": "ipython",
    "version": 3
   },
   "file_extension": ".py",
   "mimetype": "text/x-python",
   "name": "python",
   "nbconvert_exporter": "python",
   "pygments_lexer": "ipython3",
   "version": "3.8.13"
  }
 },
 "nbformat": 4,
 "nbformat_minor": 5
}
