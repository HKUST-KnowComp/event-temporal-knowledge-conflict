{
 "cells": [
  {
   "cell_type": "code",
   "execution_count": null,
   "id": "399a23db",
   "metadata": {},
   "outputs": [],
   "source": [
    "import os\n",
    "import openai\n",
    "import time\n",
    "from tqdm import tqdm\n",
    "from sklearn.metrics import f1_score, accuracy_score, classification_report\n",
    "\n",
    "openai.api_key = os.getenv(\"OPENAI_API_KEY\")\n",
    "\n",
    "import json\n",
    "import numpy as np\n",
    "\n",
    "np.random.seed(0)\n",
    "features_valid = json.load(open(\"../data/valid_subset_text.json\"))\n",
    "features_rest = json.load(open(\"../dataset_bias/valid_subset_rest_narrative.json\"))\n",
    "\n",
    "gen_examplars_res = np.load(\"../data/examplars_gda_rest.npy\", allow_pickle=True)\n",
    "\n",
    "def compare(d1, d2):\n",
    "    return all(d1[key] == d2[key] for key in d1)\n",
    "\n",
    "features_ori = [item for item in features_valid if all(not compare(d, item) for d in features_rest)]"
   ]
  },
  {
   "cell_type": "code",
   "execution_count": 2,
   "id": "a4886cd3",
   "metadata": {},
   "outputs": [],
   "source": [
    "all_examplars_conflict = np.load(\"../data/examplars_gda_conflict.npy\", allow_pickle=True)\n",
    "all_examplars_rest = np.load(\"../data/examplars_gda_rest.npy\", allow_pickle=True)\n",
    "\n",
    "all_examplars_new = [[] for i in range(len(features_valid))]\n",
    "\n",
    "rest_2_all_idx = []\n",
    "\n",
    "for i in range(len(features_rest)):\n",
    "    rest_2_all_idx.append([])\n",
    "    for j in range(len(features_valid)):\n",
    "        if compare(features_valid[j], features_rest[i]):\n",
    "            rest_2_all_idx[-1].append(j)\n",
    "for i in range(len(features_rest)):\n",
    "    for idx in rest_2_all_idx[i]:\n",
    "        all_examplars_new[idx] = all_examplars_rest[i]\n",
    "        \n",
    "conflict_2_all_idx = []\n",
    "\n",
    "for i in range(len(features_ori)):\n",
    "    conflict_2_all_idx.append([])\n",
    "    for j in range(len(features_valid)):\n",
    "        if compare(features_valid[j], features_ori[i]):\n",
    "            conflict_2_all_idx[-1].append(j)\n",
    "for i in range(len(features_ori)):\n",
    "    for idx in conflict_2_all_idx[i]:\n",
    "        all_examplars_new[idx] = all_examplars_conflict[i]"
   ]
  },
  {
   "cell_type": "code",
   "execution_count": 5,
   "id": "3db8a35a",
   "metadata": {},
   "outputs": [],
   "source": [
    "np.save(\"../data/valid_gda_examplars\", all_examplars_new)"
   ]
  },
  {
   "cell_type": "code",
   "execution_count": 6,
   "id": "2aae4f8d",
   "metadata": {},
   "outputs": [],
   "source": [
    "selected_subsubset = np.load(\"subsubset_idx_200.npy\", allow_pickle=True)"
   ]
  },
  {
   "cell_type": "code",
   "execution_count": 12,
   "id": "476e9ee7",
   "metadata": {},
   "outputs": [],
   "source": [
    "three_shot_examplars = open(\"prompts/prompt_1_icl_examplar_3_shot_1.txt\").readlines()"
   ]
  },
  {
   "cell_type": "code",
   "execution_count": 28,
   "id": "4a446499",
   "metadata": {},
   "outputs": [],
   "source": [
    "\n",
    "\n",
    "sampled_two_shot_exampalrs = ['Given the context:\\n' + item for i, item in enumerate(\"\".join(three_shot_examplars).split('Given the context:\\n')[1:]) if (i + 1) % 3 !=0 ]\n",
    "\n"
   ]
  },
  {
   "cell_type": "code",
   "execution_count": 39,
   "id": "3e536f62",
   "metadata": {},
   "outputs": [],
   "source": [
    "def merge_gda_examplars(gda_list):\n",
    "    assert len(gda_list) == 4\n",
    "    return sampled_two_shot_exampalrs[:2] + [gda_list[0]+\"\\n\\n\"] + sampled_two_shot_exampalrs[2:4] + [gda_list[1]+\"\\n\\n\"] \\\n",
    "    + sampled_two_shot_exampalrs[4:6] + [gda_list[2]+\"\\n\\n\"] + sampled_two_shot_exampalrs[6:8] + [gda_list[3]+\"\\n\\n\"]"
   ]
  },
  {
   "cell_type": "code",
   "execution_count": 40,
   "id": "ec154569",
   "metadata": {},
   "outputs": [
    {
     "data": {
      "text/plain": [
       "['Given the context:\\nThe thrift announced the plan Aug. 21. Among other reasons, high fees regulators imposed on certain transfers of thrift deposits to commercial banks \"substantially altered the economics of the transaction for both parties,\" Poughkeepsie said. Additionally, the bank is increasing its loan-loss reserves for the third quarter by $8.5 million before taxes.\\n\\nQ: What\\'s the temporal relation between the event \"altered\" and \"said\"? \\nChoice A: altered happens before said. \\nChoice B: altered happens after said. \\nChoice C: altered happens during said. \\nChoice D: unknown. \\nAnswer only with A, B, C, or D. \\n\\nA: Choice A\\n\\n',\n",
       " 'Given the context:\\nThe U.N. Security Council on Aug. 6 ordered a global embargo on trade with Iraq as punishment for seizing Kuwait. Bush then sent U.S. troops and planes to Saudi Arabia, saying Iraqi troops massed nearby in Kuwait threatened Saudi Arabia and its vast oil reserves. Twelve Arab League nations voted for an Arab force to protect Saudi Arabia, with the vanguard of Syria\\'s contingent arriving Tuesday, according to diplomatic sources in Riyadh, the Saudi capital. Egyptian and Moroccan troops are already there.\\n\\nQ: What\\'s the temporal relation between the event \"threatened\" and \"protect\"? \\nChoice A: threatened happens before protect. \\nChoice B: threatened happens after protect. \\nChoice C: threatened happens during protect. \\nChoice D: unknown. \\nAnswer only with A, B, C, or D. \\n\\nA: Choice A\\n\\n',\n",
       " 'Given the context:\\nThe crowd was eagerly waiting for the event to begin. Everyone was filled with anticipation and excitement as they waited for the curtains to open. The atmosphere was electric as people chatted and laughed,\\n\\nQ: What\\'s the temporal relation between the event \"waiting\" and \"said\"? \\nChoice A: waiting happens before said. \\nChoice B: waiting happens after said. \\nChoice C: waiting happens during said. \\nChoice D: unknown. \\nAnswer only with A, B, C, or D. \\n\\nA: Choice A\\n\\n',\n",
       " 'Given the context:\\nIn January this year, British police officers who had been searching for Howes concluded he had probably been killed soon after being captured. The Foreign Office said it had informed the family of Howes, 37 years old when he was kidnapped, that he probably died within weeks or months of his capture on March 26, 1996. ``Obviously, it is deeply discouraging for the family after 22 months, but there is no proof of life.\\n\\nQ: What\\'s the temporal relation between the event \"said\" and \"died\"? \\nChoice A: said happens before died. \\nChoice B: said happens after died. \\nChoice C: said happens during died. \\nChoice D: unknown. \\nAnswer only with A, B, C, or D. \\n\\nA: Choice B\\n\\n',\n",
       " 'Given the context:\\nBut the big, often tumultuous slide in stock prices this month has turned some of those who have been profiting from the practice against it. Peter DaPuzzo, head of retail equity trading at Shearson Lehman Hutton, acknowledges that he wasn\\'t troubled by program trading when it began in the pre-crash bull market because it added liquidity and people were pleased to see stock prices rising. \"We weren\\'t as concerned until they became sell programs,\" says Mr. DaPuzzo, who now thinks it adds unnecessary volatility.\\n\\nQ: What\\'s the temporal relation between the event \"acknowledges\" and \"began\"? \\nChoice A: acknowledges happens before began. \\nChoice B: acknowledges happens after began. \\nChoice C: acknowledges happens during began. \\nChoice D: unknown. \\nAnswer only with A, B, C, or D. \\n\\nA: Choice B\\n\\n',\n",
       " 'Given the context:\\nThe event was finally here. Everyone had been waiting for weeks, and the anticipation was palpable. As the clock ticked closer to the start time, the crowd grew more and more excited.\\n\\nQ: What\\'s the temporal relation between the event \"waiting\" and \"said\"? \\nChoice A: waiting happens before said. \\nChoice B: waiting happens after said. \\nChoice C: waiting happens during said. \\nChoice D: unknown. \\nAnswer only with A, B, C, or D. \\n\\nA: Choice B\\n\\n',\n",
       " 'Given the context:\\nProvigo was the most active industrial stock on the Montreal Exchange, where it closed at C$9.75 (US$8.32), up 75 Canadian cents. \"I think it\\'s a pretty positive development,\" said Ross Cowan, a financial analyst with Levesque Beaubien Geoffrion Inc., of the decision to concentrate on groceries. Mr. Lortie\\'s departure, while sudden, was seen as inevitable in light of the shift in strategy. \"The non-food operations were largely Mr. Lortie\\'s creation {and} his strategy didn\\'t work,\" said Steven Holt, a financial analyst with Midland Doherty Ltd. Provigo\\'s profit record over the past two years tarnished the company\\'s and Mr. Lortie\\'s reputations.\\n\\nQ: What\\'s the temporal relation between the event \"think\" and \"seen\"? \\nChoice A: think happens before seen. \\nChoice B: think happens after seen. \\nChoice C: think happens during seen. \\nChoice D: unknown. \\nAnswer only with A, B, C, or D. \\n\\nA: Choice C\\n\\n',\n",
       " 'Given the context:\\nDelta has benefited more than other carriers from the weakness of Eastern Airlines, which shares the Atlanta hub. Although Eastern is back to about 80% of its pre-strike schedule now, the Texas Air Corp. subsidiary was only beginning to get back on its feet during the quarter. Separately, America West Airlines, Phoenix, Ariz., reported third-quarter profit jumped 45% to $5.8 million, or 28 cents a share, from $4 million, or 24 cents a share, a year earlier. The latest results include a $2.6 million one-time payment from a \"foreign entity.\"\\n\\nQ: What\\'s the temporal relation between the event \"beginning\" and \"jumped\"? \\nChoice A: beginning happens before jumped. \\nChoice B: beginning happens after jumped. \\nChoice C: beginning happens during jumped. \\nChoice D: unknown. \\nAnswer only with A, B, C, or D. \\n\\nA: Choice C\\n\\n',\n",
       " 'Given the context:\\nThe event was in full swing, with people waiting in anticipation for the big announcement. Music was playing in the background, and the atmosphere was electric. Everyone was chatting and laughing, and the\\n\\nQ: What\\'s the temporal relation between the event \"waiting\" and \"said\"? \\nChoice A: waiting happens before said. \\nChoice B: waiting happens after said. \\nChoice C: waiting happens during said. \\nChoice D: unknown. \\nAnswer only with A, B, C, or D. \\n\\nA: Choice C\\n\\n',\n",
       " 'Given the context:\\nThe crucible is Portadown, 30 miles (50 kms) southwest of Belfast, where Orangemen march each July from their rural church back downtown _ through the town\\'s main Catholic area. Protesters from several Catholic communities crowded into Portadown\\'s Catholic Garvaghy Road to hear speakers demand negotiations with Orange Order leaders, and pledge to participate in each others\\' road-blocking protests this summer. ``Small nationalist communities are not going to be left on their own this summer,\\'\\' said Gerard Rice, a former IRA prisoner who leads anti-Orange protests in a Catholic neighborhood of south Belfast.\\n\\nQ: What\\'s the temporal relation between the event \"hear\" and \"protests\"? \\nChoice A: hear happens before protests. \\nChoice B: hear happens after protests. \\nChoice C: hear happens during protests. \\nChoice D: unknown. \\nAnswer only with A, B, C, or D. \\n\\nA: Choice D\\n\\n',\n",
       " 'Given the context:\\nThe approach of the year two thousand has many of these groups in a kind of millennial frenzy. Uh, uh a- they believe, or at least many of them believe, uh that they are approaching the Battle of Armageddon in which they will be pitted against the uh kind of Satanic forces trying to take over the world. Mr. Potach notes older, more traditional groups like the Ku Klux Klan are also opening new chapters, thanks in part to their ability to use new technologies like the Internet. The Federal Bureau of Investigation says it received more than eight thousand reports of hate group crimes last year.\\n\\nQ: What\\'s the temporal relation between the event \"believe\" and \"opening\"? \\nChoice A: believe happens before opening. \\nChoice B: believe happens after opening. \\nChoice C: believe happens during opening. \\nChoice D: unknown. \\nAnswer only with A, B, C, or D. \\n\\nA: Choice D\\n\\n',\n",
       " 'Given the context:\\n\"I said I would wait, but I\\'m not sure how long it will take. I\\'m sure it won\\'t be too long, but I\\'m not sure when I\\'ll hear back\\n\\nQ: What\\'s the temporal relation between the event \"waiting\" and \"said\"? \\nChoice A: waiting happens before said. \\nChoice B: waiting happens after said. \\nChoice C: waiting happens during said. \\nChoice D: unknown. \\nAnswer only with A, B, C, or D. \\n\\nA: Choice D\\n\\n']"
      ]
     },
     "execution_count": 40,
     "metadata": {},
     "output_type": "execute_result"
    }
   ],
   "source": [
    "merge_gda_examplars(all_examplars_new[0])"
   ]
  },
  {
   "cell_type": "code",
   "execution_count": 42,
   "id": "f77cee4c",
   "metadata": {},
   "outputs": [
    {
     "name": "stderr",
     "output_type": "stream",
     "text": [
      "100%|███████████████████████████████████████████████████████████████████████████████████████████████████████████████████| 200/200 [11:32<00:00,  3.46s/it]\n"
     ]
    }
   ],
   "source": [
    "threeshot_cda_results_1 = []\n",
    "\n",
    "# selected_subsubset = np.random.permutation(len(features_valid))[:200]\n",
    "# np.save(\"subsubset_idx_200\", selected_subsubset)\n",
    "selected_subsubset = np.load(\"subsubset_idx_200.npy\", allow_pickle=True)\n",
    "\n",
    "for i in tqdm(selected_subsubset):\n",
    "\n",
    "    item = features_valid[i]\n",
    "    context = item['text'].replace(\"[CLS]\", \"\").replace(\"[SEP]\", \"\").strip()\n",
    "    e1 = item['e1']\n",
    "    e2 = item['e2']\n",
    "    \n",
    "    examplar = ''.join(merge_gda_examplars(all_examplars_new[i]))\n",
    "    \n",
    "    prompt = \"Given the context:\\n\" + context + f\"\\n\\nQ: What's the temporal relation between the event \\\"{e1}\\\" and \\\"{e2}\\\"? \\nChoice A: {e1} happens before {e2}. \\nChoice B: {e1} happens after {e2}. \\nChoice C: {e1} happens during {e2}. \\nChoice D: unknown. \\nAnswer only with A, B, C, or D. \\n\\nA: Choice \"\n",
    "#     print(prompt)\n",
    "    while True:\n",
    "        try:\n",
    "            threeshot_cda_results_1.append(openai.Completion.create(\n",
    "                        model=\"text-davinci-003\",\n",
    "                        prompt=examplar + \"\\n\\n\" + prompt,\n",
    "                        max_tokens=20,\n",
    "                        temperature=0\n",
    "            ))\n",
    "            break\n",
    "        except:\n",
    "            time.sleep(10)\n",
    "    time.sleep(2)"
   ]
  },
  {
   "cell_type": "code",
   "execution_count": 43,
   "id": "be614de5",
   "metadata": {},
   "outputs": [
    {
     "name": "stdout",
     "output_type": "stream",
     "text": [
      "0.26348359035191776 0.515\n"
     ]
    }
   ],
   "source": [
    "convert_dict = {'A':0, 'B':1, 'C':2, 'D':3}\n",
    "convert_dict_rev = {0:'A', 1:'B', 2:'C', 3:'D'}\n",
    "def parse_result(ans):\n",
    "    return convert_dict.get(ans.upper(), 3)\n",
    "\n",
    "\n",
    "labels_selected = [features_valid[i]['labels'][0] for i in selected_subsubset]\n",
    "threeshot_preds_1 =  [parse_result(item['choices'][0]['text'].strip()) for item in threeshot_cda_results_1]\n",
    "\n",
    "print(f1_score(labels_selected, threeshot_preds_1, average='macro'), f1_score(labels_selected, threeshot_preds_1, average=\"micro\"))\n"
   ]
  },
  {
   "cell_type": "code",
   "execution_count": 49,
   "id": "2fa3b280",
   "metadata": {},
   "outputs": [
    {
     "name": "stderr",
     "output_type": "stream",
     "text": [
      "100%|███████████████████████████████████████████████████████████████████████████████████████████████████████████████████| 200/200 [10:56<00:00,  3.28s/it]\n"
     ]
    }
   ],
   "source": [
    "threeshot_cda_results_2 = []\n",
    "\n",
    "# selected_subsubset = np.random.permutation(len(features_valid))[:200]\n",
    "# np.save(\"subsubset_idx_200\", selected_subsubset)\n",
    "selected_subsubset = np.load(\"subsubset_idx_200.npy\", allow_pickle=True)\n",
    "\n",
    "for i in tqdm(selected_subsubset):\n",
    "\n",
    "    item = features_valid[i]\n",
    "    context = item['text'].replace(\"[CLS]\", \"\").replace(\"[SEP]\", \"\").strip()\n",
    "    e1 = item['e1']\n",
    "    e2 = item['e2']\n",
    "    \n",
    "    merged_results = merge_gda_examplars(all_examplars_new[i])\n",
    "    examplar = ''.join(merged_results[:2] + merged_results[3:])\n",
    "    \n",
    "    prompt = \"Given the context:\\n\" + context + f\"\\n\\nQ: What's the temporal relation between the event \\\"{e1}\\\" and \\\"{e2}\\\"? \\nChoice A: {e1} happens before {e2}. \\nChoice B: {e1} happens after {e2}. \\nChoice C: {e1} happens during {e2}. \\nChoice D: unknown. \\nAnswer only with A, B, C, or D. \\n\\nA: Choice \"\n",
    "#     print(prompt)\n",
    "    while True:\n",
    "        try:\n",
    "            threeshot_cda_results_2.append(openai.Completion.create(\n",
    "                        model=\"text-davinci-003\",\n",
    "                        prompt=examplar + \"\\n\\n\" + prompt,\n",
    "                        max_tokens=20,\n",
    "                        temperature=0\n",
    "            ))\n",
    "            break\n",
    "        except:\n",
    "            time.sleep(10)\n",
    "    time.sleep(2)"
   ]
  },
  {
   "cell_type": "code",
   "execution_count": 50,
   "id": "4fe3762b",
   "metadata": {},
   "outputs": [
    {
     "name": "stdout",
     "output_type": "stream",
     "text": [
      "0.2195288494366678 0.47\n"
     ]
    }
   ],
   "source": [
    "convert_dict = {'A':0, 'B':1, 'C':2, 'D':3}\n",
    "convert_dict_rev = {0:'A', 1:'B', 2:'C', 3:'D'}\n",
    "def parse_result(ans):\n",
    "    return convert_dict.get(ans.upper(), 3)\n",
    "\n",
    "\n",
    "labels_selected = [features_valid[i]['labels'][0] for i in selected_subsubset]\n",
    "threeshot_preds_2 =  [parse_result(item['choices'][0]['text'].strip()) for item in threeshot_cda_results_2]\n",
    "\n",
    "print(f1_score(labels_selected, threeshot_preds_2, average='macro'), f1_score(labels_selected, threeshot_preds_2, average=\"micro\"))\n"
   ]
  },
  {
   "cell_type": "code",
   "execution_count": null,
   "id": "9da69aeb",
   "metadata": {},
   "outputs": [],
   "source": []
  }
 ],
 "metadata": {
  "kernelspec": {
   "display_name": "Python 3 (ipykernel)",
   "language": "python",
   "name": "python3"
  },
  "language_info": {
   "codemirror_mode": {
    "name": "ipython",
    "version": 3
   },
   "file_extension": ".py",
   "mimetype": "text/x-python",
   "name": "python",
   "nbconvert_exporter": "python",
   "pygments_lexer": "ipython3",
   "version": "3.8.13"
  }
 },
 "nbformat": 4,
 "nbformat_minor": 5
}
