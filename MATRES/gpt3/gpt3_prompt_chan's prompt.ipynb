{
 "cells": [
  {
   "cell_type": "code",
   "execution_count": 5,
   "id": "5427edee",
   "metadata": {},
   "outputs": [],
   "source": [
    "import os\n",
    "import openai\n",
    "import time\n",
    "from tqdm import tqdm\n",
    "from sklearn.metrics import f1_score, accuracy_score, classification_report\n",
    "\n",
    "openai.api_key = os.getenv(\"OPENAI_API_KEY\")\n",
    "\n",
    "import json\n",
    "import numpy as np\n",
    "\n",
    "np.random.seed(0)\n",
    "features_valid = json.load(open(\"../data/valid_subset_text.json\"))\n",
    "features_valid_erp = json.load(open(\"../dataset_bias/valid_subset_text_erp.json\"))\n",
    "features_valid_tense_all = json.load(open(\"../dataset_bias/valid_subset_text_tense_bias_vague.json\"))\n",
    "\n",
    "# features_valid_tense_vague = [item for item in features_valid_tense_all if item['labels'][0] == 3]\n",
    "# features_valid_dep = json.load(open(\"../dataset_bias/valid_text_features_matres_dep_bias.json\"))"
   ]
  },
  {
   "cell_type": "code",
   "execution_count": 11,
   "id": "f4fb61bd",
   "metadata": {},
   "outputs": [],
   "source": [
    "features_valid_gpt2xl = json.load(open(\"../data/valid_subset_text_gpt2xl_bias.json\"))\n",
    "gpt2xl_subset_idx_hard = np.load(\"../dataset_bias/gpt2xl_subset_idx_hard.npy\", allow_pickle=True)\n",
    "features_valid_gpt2xl_hard = [features_valid[i] for i in gpt2xl_subset_idx_hard]"
   ]
  },
  {
   "cell_type": "code",
   "execution_count": 16,
   "id": "cc85ff06",
   "metadata": {},
   "outputs": [
    {
     "data": {
      "text/plain": [
       "{'text': \"[CLS] With a tense Miami waiting, federal immigration officials said Monday they will order the Miami relatives of 6-year-old Cuban rafter Elian Gonzalez to turn the boy over to his father, who could come to the U.S. from Cuba as early as Tuesday.[SEP] ``Our goal is to reunite Elian and his father,'' said Maria Cardona, a spokeswoman for the U.S. Immigration and Naturalization Service.[SEP] ``The issue is not whether we will transfer Elian to his father, but when and how.''[SEP]\",\n",
       " 'e1': 'waiting',\n",
       " 'e2': 'said',\n",
       " 'labels': [0]}"
      ]
     },
     "execution_count": 16,
     "metadata": {},
     "output_type": "execute_result"
    }
   ],
   "source": [
    "features_valid[0]"
   ]
  },
  {
   "cell_type": "code",
   "execution_count": null,
   "id": "892c6c72",
   "metadata": {},
   "outputs": [],
   "source": []
  },
  {
   "cell_type": "markdown",
   "id": "7a4e9f26",
   "metadata": {},
   "source": [
    "# 1. zero_shot\n",
    "\n",
    "\"Determine the temporal order from \\\"{e1}\\\" to \\\"{e2}\\\" in the following sentence: \\\"{context}\\\". Only answer one word from AFTER, BEFORE, EQUAL, VAGUE. Answer:\""
   ]
  },
  {
   "cell_type": "code",
   "execution_count": null,
   "id": "dafcbf3e",
   "metadata": {},
   "outputs": [],
   "source": [
    "convert_dict = {'BEFORE':0, 'AFTER':1, 'EQUAL':2, 'VAGUE':3}\n",
    "def parse_result(ans):\n",
    "    return convert_dict[ans]\n"
   ]
  },
  {
   "cell_type": "code",
   "execution_count": 30,
   "id": "0e8fe962",
   "metadata": {},
   "outputs": [
    {
     "name": "stderr",
     "output_type": "stream",
     "text": [
      "100%|█████████████████████████████████████████████████████████████████████████████████████████████████████████████████| 1000/1000 [57:34<00:00,  3.45s/it]\n"
     ]
    }
   ],
   "source": [
    "zs_results = []\n",
    "for i in tqdm(range(len(features_valid))):\n",
    "    item = features_valid[i]\n",
    "    context = item['text'].replace(\"[CLS]\", \"\").replace(\"[SEP]\", \"\").strip()\n",
    "    e1 = item['e1']\n",
    "    e2 = item['e2']\n",
    "    \n",
    "    prompt = f\"Determine the temporal order from \\\"{e1}\\\" to \\\"{e2}\\\" in the following sentence: \\\"{context}\\\". Only answer one word from AFTER, BEFORE, EQUAL, VAGUE. Answer:\"\n",
    "#     print(prompt)\n",
    "    while True:\n",
    "        try:\n",
    "            zs_results.append(openai.Completion.create(\n",
    "                        model=\"text-davinci-003\",\n",
    "                        prompt=prompt,\n",
    "                        max_tokens=20,\n",
    "                        temperature=0\n",
    "            ))\n",
    "            break\n",
    "        except:\n",
    "            time.sleep(10)\n",
    "    time.sleep(2)\n",
    "#     break"
   ]
  },
  {
   "cell_type": "code",
   "execution_count": 34,
   "id": "27a3d93c",
   "metadata": {},
   "outputs": [],
   "source": [
    "ze_preds = [parse_result(item['choices'][0]['text'].strip()) for item in zs_results]"
   ]
  },
  {
   "cell_type": "code",
   "execution_count": 33,
   "id": "b7e07b96",
   "metadata": {},
   "outputs": [],
   "source": []
  },
  {
   "cell_type": "code",
   "execution_count": 31,
   "id": "6b363b16",
   "metadata": {},
   "outputs": [
    {
     "data": {
      "text/plain": [
       "Counter({'BEFORE': 998, 'EQUAL': 2})"
      ]
     },
     "execution_count": 31,
     "metadata": {},
     "output_type": "execute_result"
    }
   ],
   "source": [
    "from collections import Counter\n",
    "Counter([item['choices'][0]['text'].strip() for item in zs_results])"
   ]
  },
  {
   "cell_type": "code",
   "execution_count": 35,
   "id": "470cacd5",
   "metadata": {},
   "outputs": [
    {
     "name": "stdout",
     "output_type": "stream",
     "text": [
      "0.17126890203813283 0.521\n"
     ]
    }
   ],
   "source": [
    "labels = [features_valid[i]['labels'][0] for i in range(len(features_valid))]\n",
    "\n",
    "print(f1_score(labels, ze_preds, average='macro'), f1_score(labels, ze_preds, average=\"micro\"))"
   ]
  },
  {
   "cell_type": "code",
   "execution_count": 37,
   "id": "654cc159",
   "metadata": {},
   "outputs": [],
   "source": [
    "with open(\"results/subset_chan_prompt_zs.json\", \"w\") as writer:\n",
    "    json.dump(ze_preds, writer)\n"
   ]
  },
  {
   "cell_type": "code",
   "execution_count": null,
   "id": "fe535ad0",
   "metadata": {},
   "outputs": [],
   "source": []
  },
  {
   "cell_type": "markdown",
   "id": "70071e7e",
   "metadata": {},
   "source": [
    "# ICL, m way, k-shot"
   ]
  },
  {
   "cell_type": "code",
   "execution_count": null,
   "id": "be480086",
   "metadata": {},
   "outputs": [],
   "source": []
  },
  {
   "cell_type": "code",
   "execution_count": null,
   "id": "9a5d8343",
   "metadata": {},
   "outputs": [],
   "source": []
  },
  {
   "cell_type": "code",
   "execution_count": null,
   "id": "04c25eed",
   "metadata": {},
   "outputs": [],
   "source": []
  }
 ],
 "metadata": {
  "kernelspec": {
   "display_name": "Python 3 (ipykernel)",
   "language": "python",
   "name": "python3"
  },
  "language_info": {
   "codemirror_mode": {
    "name": "ipython",
    "version": 3
   },
   "file_extension": ".py",
   "mimetype": "text/x-python",
   "name": "python",
   "nbconvert_exporter": "python",
   "pygments_lexer": "ipython3",
   "version": "3.8.13"
  }
 },
 "nbformat": 4,
 "nbformat_minor": 5
}
