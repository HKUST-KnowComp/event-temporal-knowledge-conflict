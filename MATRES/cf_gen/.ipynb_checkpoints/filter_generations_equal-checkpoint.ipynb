{
 "cells": [
  {
   "cell_type": "code",
   "execution_count": 1,
   "id": "77f46abc",
   "metadata": {},
   "outputs": [],
   "source": [
    "import spacy\n",
    "import numpy as np\n",
    "\n",
    "from transformers import AutoTokenizer, AutoModel\n",
    "\n",
    "num_dict = {0: \"before\", 1: \"after\", 2: \"equal\", 3: \"vague\"}\n",
    "rel_2_num_dict = {\"before\":0, \"after\":1, \"equal\":2, \"vague\":3}\n",
    "\n",
    "nlp = spacy.load(\"en_core_web_sm\")\n",
    "\n",
    "tokenizer = AutoTokenizer.from_pretrained('google/bigbird-roberta-large')   \n",
    "\n",
    "before = np.load(\"../data/flan_t5/before.npy\", allow_pickle=True)\n",
    "after = np.load(\"../data/flan_t5/after.npy\", allow_pickle=True)\n",
    "equal = np.load(\"../data/flan_t5/equal.npy\", allow_pickle=True)"
   ]
  },
  {
   "cell_type": "code",
   "execution_count": 2,
   "id": "819640e3",
   "metadata": {},
   "outputs": [
    {
     "name": "stderr",
     "output_type": "stream",
     "text": [
      "100%|██████████████████████████████████████████████████████████████████████████████████████████████████████████████████████████████████████████████████████████████████████| 271/271 [22:14<00:00,  4.92s/it]\n"
     ]
    }
   ],
   "source": [
    "from tqdm import tqdm\n",
    "\n",
    "def get_lemma(t):\n",
    "    parsed_text = nlp(tokenizer.decode([t]))\n",
    "    if len(parsed_text) == 0:\n",
    "        return ''\n",
    "    else:\n",
    "        return parsed_text[0].lemma_\n",
    "\n",
    "# find event_pos and event_pos_end for h and t\n",
    "def get_event_pos(token_ids, h, t):\n",
    "    parsed_text = [get_lemma(t) for t in token_ids]\n",
    "    event_pos_h = [i for i, token in enumerate(parsed_text) if token == h]\n",
    "    event_pos_t = [i for i, token in enumerate(parsed_text) if token == t]\n",
    "    if len(event_pos_h) > 0 and len(event_pos_t) > 0:\n",
    "        return event_pos_h[0], event_pos_t[0]\n",
    "    return None\n",
    "\n",
    "equal_features = []\n",
    "relations = [rel_2_num_dict[\"equal\"]]\n",
    "for i in tqdm(range(len(equal))):\n",
    "    h, t, _ = equal[i][0]\n",
    "    for j in range(len(equal[i][1])):\n",
    "        text = equal[i][1][j]\n",
    "        text = \"[CLS] \" + text.replace(\". \", \".[SEP] \") + \"[SEP]\"\n",
    "        TokenIDs = tokenizer.encode(text, add_special_tokens=False)\n",
    "        event_pos = get_event_pos(TokenIDs, h, t)\n",
    "        if not event_pos:\n",
    "            continue\n",
    "        event_pos = list(event_pos)\n",
    "        event_pos_end = [event_pos[0]+1, event_pos[1]+1]\n",
    "        \n",
    "        feature = {'input_ids': TokenIDs,\n",
    "                   'event_pos': event_pos,\n",
    "                   'event_pos_end': event_pos_end,\n",
    "                   'event_pair': [[1, 2]],\n",
    "                   'labels': relations,\n",
    "                  }\n",
    "        equal_features.append(feature)"
   ]
  },
  {
   "cell_type": "code",
   "execution_count": 85,
   "id": "0748a907",
   "metadata": {},
   "outputs": [
    {
     "data": {
      "text/plain": [
       "''"
      ]
     },
     "execution_count": 85,
     "metadata": {},
     "output_type": "execute_result"
    }
   ],
   "source": [
    "tokenizer.decode([321])"
   ]
  },
  {
   "cell_type": "code",
   "execution_count": 3,
   "id": "4fdb9af0",
   "metadata": {},
   "outputs": [],
   "source": [
    "import json\n",
    "with open(\"../data/flan_t5/equal_features.json\", \"w\") as writer:\n",
    "    json.dump(equal_features, writer) "
   ]
  },
  {
   "cell_type": "code",
   "execution_count": null,
   "id": "e6a75fda",
   "metadata": {},
   "outputs": [],
   "source": []
  }
 ],
 "metadata": {
  "kernelspec": {
   "display_name": "Python 3 (ipykernel)",
   "language": "python",
   "name": "python3"
  },
  "language_info": {
   "codemirror_mode": {
    "name": "ipython",
    "version": 3
   },
   "file_extension": ".py",
   "mimetype": "text/x-python",
   "name": "python",
   "nbconvert_exporter": "python",
   "pygments_lexer": "ipython3",
   "version": "3.8.13"
  }
 },
 "nbformat": 4,
 "nbformat_minor": 5
}
