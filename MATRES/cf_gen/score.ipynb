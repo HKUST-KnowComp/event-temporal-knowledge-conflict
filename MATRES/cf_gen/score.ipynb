{
 "cells": [
  {
   "cell_type": "code",
   "execution_count": 2,
   "id": "7fe65e79",
   "metadata": {},
   "outputs": [],
   "source": [
    "import sys\n",
    "sys.path.append(\"../\")\n",
    "import tqdm\n",
    "import time\n",
    "import datetime\n",
    "from datetime import datetime \n",
    "import random\n",
    "import os\n",
    "from os import listdir\n",
    "from os.path import isfile, join\n",
    "from torch.utils.data import DataLoader\n",
    "from util import format_time, count_parameters, set_seed, collate_fn\n",
    "from transformers import AutoTokenizer, AutoModel, get_linear_schedule_with_warmup\n",
    "from exp import *\n",
    "import numpy as np\n",
    "import json\n",
    "import sys\n",
    "# from synonyms import *\n",
    "import pickle\n",
    "from timeline_construct import *\n",
    "from ts import func, ModelWithTemperature\n",
    "from functools import partial"
   ]
  },
  {
   "cell_type": "code",
   "execution_count": 4,
   "id": "4ef0cbb4",
   "metadata": {},
   "outputs": [
    {
     "name": "stdout",
     "output_type": "stream",
     "text": [
      "Processing MATRES dataset...\n"
     ]
    },
    {
     "name": "stderr",
     "output_type": "stream",
     "text": [
      "Some weights of the model checkpoint at google/bigbird-roberta-large were not used when initializing BigBirdModel: ['cls.predictions.decoder.weight', 'cls.predictions.transform.LayerNorm.bias', 'cls.predictions.decoder.bias', 'cls.predictions.transform.dense.weight', 'cls.seq_relationship.weight', 'cls.seq_relationship.bias', 'cls.predictions.transform.LayerNorm.weight', 'cls.predictions.transform.dense.bias', 'cls.predictions.bias']\n",
      "- This IS expected if you are initializing BigBirdModel from the checkpoint of a model trained on another task or with another architecture (e.g. initializing a BertForSequenceClassification model from a BertForPreTraining model).\n",
      "- This IS NOT expected if you are initializing BigBirdModel from the checkpoint of a model that you expect to be exactly identical (initializing a BertForSequenceClassification model from a BertForSequenceClassification model).\n"
     ]
    }
   ],
   "source": [
    "num_dict = {0: \"before\", 1: \"after\", 2: \"equal\", 3: \"vague\"}\n",
    "\n",
    "mask_in_input_ids = 0 # note that [MASK] is actually learned through pre-training\n",
    "mask_in_input_mask = 0 # when input is masked through attention, it would be replaced with [PAD]\n",
    "acronym = 0 # using acronym for tense (e.g., pastsimp): 1; else (e.g., past simple): 0\n",
    "t_marker = 1\n",
    "\n",
    "\n",
    "#############################\n",
    "### Setting up parameters ###\n",
    "#############################\n",
    "\n",
    "f1_metric = 'micro'\n",
    "params = {'transformers_model': 'google/bigbird-roberta-large',\n",
    "          'dataset': 'MATRES' ,   # 'HiEve', 'IC', 'MATRES' \n",
    "          'testdata': 'None', # \n",
    "          'block_size': 64,\n",
    "          'add_loss': 0, \n",
    "          'batch_size': 5,    # 6 works on 48G gpu. In the paper: 20 \n",
    "          'accum_iter':1,\n",
    "          'epochs': 0,\n",
    "          'learning_rate': 0,    # subject to change\n",
    "          'seed': 0,\n",
    "          'debug': 0,\n",
    "          'rst_file_name': 'init_test.rst',    # subject to change\n",
    "          'mask_in_input_ids': mask_in_input_ids,\n",
    "          'mask_in_input_mask': mask_in_input_mask,\n",
    "          'marker': 'abc', \n",
    "          'tense_acron': 0, # 1 (acronym of tense) or 0 (original tense)\n",
    "          't_marker': 1, # 2 (trigger enclosed by special tokens) or 1 (tense enclosed by **)\n",
    "          'td': 0, # 0 (no tense detection) or 1 (tense detection, add tense info)\n",
    "          'dpn': 0, # 1 if use DPN; else 0\n",
    "          'lambda_1': -10, # lower bound * 10\n",
    "          'lambda_2': 11, # upper bound * 10\n",
    "          'f1_metric': f1_metric, \n",
    "         }\n",
    "# $acr $tmarker $td $dpn $mask $lambda_1 $lambda_2\n",
    "\n",
    "if params['testdata'] == 'MATRES_nd':\n",
    "    params['nd'] = True\n",
    "else:\n",
    "    params['nd'] = False\n",
    "\n",
    "if params['transformers_model'][-5:] == \"large\":\n",
    "    params['emb_size'] = 1024\n",
    "elif params['transformers_model'][-4:] == \"base\":\n",
    "    params['emb_size'] = 768\n",
    "else:\n",
    "    print(\"emb_size is neither 1024 nor 768? ...\")\n",
    "\n",
    "set_seed(params['seed'])\n",
    "rst_file_name = params['rst_file_name']\n",
    "\n",
    "\n",
    "model_name = rst_file_name.replace(\".rst\", \"\")\n",
    "\n",
    "cuda = torch.device('cuda')\n",
    "params['cuda'] = cuda # not included in config file\n",
    "\n",
    "#######################\n",
    "### Data processing ###\n",
    "#######################\n",
    "\n",
    "print(\"Processing \" + params['dataset'] + \" dataset...\")\n",
    "t0 = time.time()\n",
    "if params['dataset'] == \"IC\":\n",
    "    dir_name = \"./IC/IC_Processed/\"\n",
    "    #max_sent_len = 193\n",
    "elif params['dataset'] == \"HiEve\":\n",
    "    dir_name = \"./hievents_v2/processed/\"\n",
    "    #max_sent_len = 155\n",
    "elif params['dataset'] == \"MATRES\":\n",
    "    dir_name = \"\"\n",
    "else:\n",
    "    print(\"Not supporting this dataset yet!\")\n",
    "\n",
    "tokenizer = AutoTokenizer.from_pretrained(params['transformers_model'])   \n",
    "if acronym:\n",
    "    special_tokens_dict = {'additional_special_tokens': \n",
    "                           [' [futuperfsimp]',' [futucont]',' [futuperfcont]',' [futusimp]', ' [pastcont]', ' [pastperfcont]', ' [pastperfsimp]', ' [pastsimp]', ' [prescont]', ' [presperfcont]', ' [presperfsimp]', ' [pressimp]', ' [futuperfsimppass]',' [futucontpass]',' [futuperfcontpass]',' [futusimppass]', ' [pastcontpass]', ' [pastperfcontpass]', ' [pastperfsimppass]', ' [pastsimppass]', ' [prescontpass]', ' [presperfcontpass]', ' [presperfsimppass]', ' [pressimppass]', ' [none]'\n",
    "                           ]}\n",
    "    spec_toke_list = []\n",
    "    for t in special_tokens_dict['additional_special_tokens']:\n",
    "        spec_toke_list.append(\" [/\" + t[2:])\n",
    "    special_tokens_dict['additional_special_tokens'] += spec_toke_list\n",
    "    num_added_toks = tokenizer.add_special_tokens(special_tokens_dict)\n",
    "    model = AutoModel.from_pretrained(params['transformers_model'])\n",
    "    model.resize_token_embeddings(len(tokenizer))\n",
    "else:\n",
    "    model = AutoModel.from_pretrained(params['transformers_model'])\n",
    "params['model'] = model\n",
    "debug = params['debug']\n",
    "if debug:\n",
    "    params['epochs'] = 1\n",
    "\n",
    "model = model.to(cuda)\n",
    "\n"
   ]
  },
  {
   "cell_type": "code",
   "execution_count": 44,
   "id": "63b62bd4",
   "metadata": {},
   "outputs": [],
   "source": []
  },
  {
   "cell_type": "code",
   "execution_count": 7,
   "id": "1cf14371",
   "metadata": {},
   "outputs": [
    {
     "name": "stdout",
     "output_type": "stream",
     "text": [
      "current device: 0\n",
      "# of parameters: 364635144\n"
     ]
    }
   ],
   "source": [
    "from model import transformers_mlp_cons\n",
    "\n",
    "print(f'current device: { torch.cuda.current_device()}')\n",
    "\n",
    "OnePassModel = transformers_mlp_cons(params)\n",
    "OnePassModel.to(cuda)\n",
    "OnePassModel.zero_grad()\n",
    "print(\"# of parameters:\", count_parameters(OnePassModel))\n",
    "\n",
    "\n"
   ]
  },
  {
   "cell_type": "code",
   "execution_count": 8,
   "id": "03ad81da",
   "metadata": {},
   "outputs": [],
   "source": [
    "state_dict = torch.load(best_PATH)\n",
    "OnePassModel.load_state_dict(state_dict)\n",
    "OnePassModel.eval()"
   ]
  },
  {
   "cell_type": "code",
   "execution_count": 58,
   "id": "420cb653",
   "metadata": {},
   "outputs": [],
   "source": [
    "from torch.nn import functional as F\n",
    "\n",
    "model_losses = {}\n",
    "\n",
    "for r in [\"before\", \"after\", \"equal\"]:\n",
    "\n",
    "    features_eval = json.load(open(f\"../data/flan_t5/{r}_features.json\"))\n",
    "\n",
    "    remove_list = [\"being\", \"doing\", \"having\", \"'ve\", \"'re\", \"did\", \"'s\", \n",
    "                   \"are\", \"is\", \"am\", \"was\", \"were\", \"been\", \"had\", \"said\", \n",
    "                   \"be\", \"have\", \"can\", \"could\", \"may\", \"might\", \"must\", \"ought\", \"shall\", \"will\", \"would\", \"say\", \"nee\", \"need\", \"do\", \"happen\", \"occur\"]\n",
    "\n",
    "    eval_dataloader = DataLoader(features_eval, batch_size=5, shuffle=False, \n",
    "                                  collate_fn=partial(collate_fn, mask_in_input_ids=mask_in_input_ids, mask_in_input_mask=mask_in_input_mask), \n",
    "                                  drop_last=False)\n",
    "\n",
    "\n",
    "    y_logits = np.array([[0, 0, 0, 0]])\n",
    "    y_gold = []\n",
    "    # load \n",
    "    for batch in eval_dataloader:\n",
    "        with torch.no_grad():\n",
    "            logits, loss = OnePassModel(batch[0].to(cuda), batch[1].to(cuda), batch[2], batch[3], batch[4], batch[5])\n",
    "        # Move logits and labels to CPU\n",
    "\n",
    "        labels = []\n",
    "        for batch_label in batch[5]:\n",
    "            for label in batch_label:\n",
    "                labels.append(label)\n",
    "        y_gold.extend(labels)\n",
    "\n",
    "        y_logits = np.append(y_logits, logits.cpu().numpy(), 0) # for prediction result output # 3 if DPN; else 4\n",
    "    y_logits = y_logits[1:]\n",
    "    all_losses = F.cross_entropy(torch.tensor(y_logits), torch.tensor(y_gold), reduction=\"none\")\n",
    "    model_losses[r] = all_losses"
   ]
  },
  {
   "cell_type": "code",
   "execution_count": 72,
   "id": "14670e66",
   "metadata": {},
   "outputs": [
    {
     "name": "stdout",
     "output_type": "stream",
     "text": [
      "before 0.9138353400028479\n",
      "after 2.805112340424625\n",
      "equal 1.5301725379868791\n"
     ]
    }
   ],
   "source": [
    "# selection\n",
    "selected_augmented_data = []\n",
    "for r in [\"before\", \"after\", \"equal\"]:\n",
    "    if r in [\"before\", \"after\"]:\n",
    "        selected_idx = np.argsort(np.array(model_losses[r]))[:2500]\n",
    "    else:\n",
    "        selected_idx = np.argsort(np.array(model_losses[r]))[:1000]\n",
    "    print(r, np.array(model_losses[r])[selected_idx[-1]])\n",
    "    selected_augmented_data.extend( list(np.array(json.load(open(f\"../data/flan_t5/{r}_features.json\")))[selected_idx]) )"
   ]
  },
  {
   "cell_type": "code",
   "execution_count": 74,
   "id": "18459812",
   "metadata": {},
   "outputs": [
    {
     "data": {
      "text/plain": [
       "6000"
      ]
     },
     "execution_count": 74,
     "metadata": {},
     "output_type": "execute_result"
    }
   ],
   "source": [
    "with open('../data/flan_t5/aug_v1_6k', 'w') as writer:\n",
    "    json.dump(selected_augmented_data, writer) \n",
    "len(selected_augmented_data)"
   ]
  },
  {
   "cell_type": "code",
   "execution_count": 65,
   "id": "f0848455",
   "metadata": {},
   "outputs": [
    {
     "data": {
      "image/png": "[encoded data removed]",
      "text/plain": [
       "<Figure size 640x480 with 1 Axes>"
      ]
     },
     "metadata": {},
     "output_type": "display_data"
    }
   ],
   "source": [
    "import matplotlib.pyplot as plt\n",
    "\n",
    "plt.hist(all_losses, bins=20)\n",
    "plt.show()"
   ]
  },
  {
   "cell_type": "markdown",
   "id": "18dfd1ab",
   "metadata": {},
   "source": [
    "# check if the codes are correct using the original dev set"
   ]
  },
  {
   "cell_type": "code",
   "execution_count": 53,
   "id": "4578cc38",
   "metadata": {},
   "outputs": [],
   "source": [
    "features_valid = json.load(open(\"../data/test_features_matres.json\"))\n",
    "\n",
    "remove_list = [\"being\", \"doing\", \"having\", \"'ve\", \"'re\", \"did\", \"'s\", \n",
    "               \"are\", \"is\", \"am\", \"was\", \"were\", \"been\", \"had\", \"said\", \n",
    "               \"be\", \"have\", \"can\", \"could\", \"may\", \"might\", \"must\", \"ought\", \"shall\", \"will\", \"would\", \"say\", \"nee\", \"need\", \"do\", \"happen\", \"occur\"]\n",
    "\n",
    "valid_dataloader = DataLoader(features_valid, batch_size=5, shuffle=False, \n",
    "                              collate_fn=partial(collate_fn, mask_in_input_ids=mask_in_input_ids, mask_in_input_mask=mask_in_input_mask), \n",
    "                              drop_last=False)\n"
   ]
  },
  {
   "cell_type": "code",
   "execution_count": 54,
   "id": "da1c0148",
   "metadata": {},
   "outputs": [],
   "source": [
    "y_logits = np.array([[0, 0, 0, 0]])\n",
    "y_gold = []\n",
    "y_pred = []\n",
    "# load \n",
    "for batch in valid_dataloader:\n",
    "    with torch.no_grad():\n",
    "        logits, loss = OnePassModel(batch[0].to(cuda), batch[1].to(cuda), batch[2], batch[3], batch[4], batch[5])\n",
    "    # Move logits and labels to CPU\n",
    "    \n",
    "    y_predict = torch.max(logits, 1).indices.cpu().numpy()\n",
    "    y_pred.extend(y_predict)\n",
    "    \n",
    "    labels = []\n",
    "    for batch_label in batch[5]:\n",
    "        for label in batch_label:\n",
    "            labels.append(label)\n",
    "    y_gold.extend(labels)\n",
    "\n",
    "    y_logits = np.append(y_logits, logits.cpu().numpy(), 0) # for prediction result output # 3 if DPN; else 4\n",
    "y_logits = y_logits[1:]"
   ]
  },
  {
   "cell_type": "code",
   "execution_count": 55,
   "id": "c3f2329f",
   "metadata": {},
   "outputs": [
    {
     "data": {
      "text/plain": [
       "0.6968215158924206"
      ]
     },
     "execution_count": 55,
     "metadata": {},
     "output_type": "execute_result"
    }
   ],
   "source": [
    "from sklearn.metrics import f1_score\n",
    "f1_score(y_gold, y_pred, average='micro')"
   ]
  },
  {
   "cell_type": "code",
   "execution_count": 56,
   "id": "33e6e695",
   "metadata": {},
   "outputs": [
    {
     "data": {
      "text/plain": [
       "818"
      ]
     },
     "execution_count": 56,
     "metadata": {},
     "output_type": "execute_result"
    }
   ],
   "source": [
    "len(y_logits)"
   ]
  },
  {
   "cell_type": "code",
   "execution_count": 48,
   "id": "59b41a9a",
   "metadata": {},
   "outputs": [],
   "source": [
    "dev_losses = F.cross_entropy(torch.tensor(y_logits), torch.tensor(y_gold), reduction=\"none\")"
   ]
  },
  {
   "cell_type": "code",
   "execution_count": 64,
   "id": "8663f355",
   "metadata": {},
   "outputs": [
    {
     "data": {
      "image/png": "[encoded data removed]",
      "text/plain": [
       "<Figure size 640x480 with 1 Axes>"
      ]
     },
     "metadata": {},
     "output_type": "display_data"
    }
   ],
   "source": [
    "import matplotlib.pyplot as plt\n",
    "\n",
    "plt.hist(dev_losses, bins=20)\n",
    "plt.show()"
   ]
  },
  {
   "cell_type": "code",
   "execution_count": 60,
   "id": "9879accc",
   "metadata": {},
   "outputs": [
    {
     "data": {
      "text/plain": [
       "tensor([9.3306e-06, 3.2434e-04, 5.2555e+00, 2.7464e-01, 2.0245e+00, 5.2814e-01,\n",
       "        6.2831e-04, 1.7468e-01, 4.0698e-04, 6.5087e-01], dtype=torch.float64)"
      ]
     },
     "execution_count": 60,
     "metadata": {},
     "output_type": "execute_result"
    }
   ],
   "source": [
    "dev_losses[:10]"
   ]
  },
  {
   "cell_type": "code",
   "execution_count": null,
   "id": "79550160",
   "metadata": {},
   "outputs": [],
   "source": []
  }
 ],
 "metadata": {
  "kernelspec": {
   "display_name": "Python 3 (ipykernel)",
   "language": "python",
   "name": "python3"
  },
  "language_info": {
   "codemirror_mode": {
    "name": "ipython",
    "version": 3
   },
   "file_extension": ".py",
   "mimetype": "text/x-python",
   "name": "python",
   "nbconvert_exporter": "python",
   "pygments_lexer": "ipython3",
   "version": "3.8.13"
  }
 },
 "nbformat": 4,
 "nbformat_minor": 5
}
