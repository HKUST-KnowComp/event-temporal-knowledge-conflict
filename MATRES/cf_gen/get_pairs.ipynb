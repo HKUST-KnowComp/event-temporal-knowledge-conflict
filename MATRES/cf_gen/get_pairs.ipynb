{
 "cells": [
  {
   "cell_type": "code",
   "execution_count": 6,
   "id": "0dd155e4",
   "metadata": {},
   "outputs": [],
   "source": [
    "import numpy as np\n",
    "\n",
    "ht_bias_pairs = np.load(\"../dataset_bias/ht_prob_dict.npy\", allow_pickle=True)[()]"
   ]
  },
  {
   "cell_type": "code",
   "execution_count": 13,
   "id": "97cd5de9",
   "metadata": {},
   "outputs": [
    {
     "name": "stdout",
     "output_type": "stream",
     "text": [
      "271\n"
     ]
    }
   ],
   "source": [
    "\n",
    "r = \"equal\"\n",
    "num = 0\n",
    "for (h, t), (p_dict, freq) in ht_bias_pairs.items():\n",
    "    p = p_dict[r]\n",
    "    if p < 0.1 and freq >= 4:\n",
    "        num += 1\n",
    "print(num)"
   ]
  },
  {
   "cell_type": "code",
   "execution_count": 14,
   "id": "9d6b263d",
   "metadata": {},
   "outputs": [],
   "source": [
    "before = np.load(\"../data/flan_t5/before.npy\", allow_pickle=True)\n",
    "after = np.load(\"../data/flan_t5/after.npy\", allow_pickle=True)\n",
    "equal = np.load(\"../data/flan_t5/equal.npy\", allow_pickle=True)"
   ]
  },
  {
   "cell_type": "code",
   "execution_count": 20,
   "id": "ecdfb42a",
   "metadata": {},
   "outputs": [
    {
     "data": {
      "text/plain": [
       "array([('end', 'earn', 0.0),\n",
       "       list([\"Jim is a baseball player. He's been playing for a long time. Jim has a bad temper. He hits the batter. End. Jim has a temper, so he gets angry easily. He has a bad temper, so he hits the batter. End.\", 'At the end of the day, I have to earn it. I play a lot of video games and earn a lot of money. One day, I went to play some games and earned a lot of money.', 'After he loses the game he is really upset but then he remembers the last time he won. He starts to earn more confidence and tries his best. In the end he wins.', 'When I was a kid, I had to get a job to earn money for school. At the end of the day, I went home and got on the couch. After a while, I got really bored and went to sleep.', \"The gamer has the ability to see the end. The gamer's a good gamer, and he earns the ability to see the end. The gamer doesn't.\", 'A man is running to the end of the street to catch a bus. The bus stops in front of a gas station. The man buys a cig and ends up buying a pack of cigarettes. The man earns $1 for the day.', 'The man has been working all day and he is tired. He decides to watch a movie at the end to earn some money. He is glad to watch the movie at the end.', \"Sheila was driving to work when she saw a beautiful girl. She decided to end their relationship. Sheila didn't earn a lot from her job. She ended up leaving her job.\", 'At the end of the day you earn what you spend. I would rather spend than save. I would rather buy than make. I would rather borrow than steal. I would rather die than live.', 'The racers finish the race, and the racers earn their paychecks. They can go home and relax. The racers are the ones who will earn their paychecks.', \"She is a woman in the army. She does not earn money, but she needs it. She can barely pay her bills. She ends up getting fired. Now, she's broke.\", 'A man goes to work every day, and he is a janitor. One day he has a lot of work, and he has to earn extra money. He gets a part time job as a paperboy, where he earns enough money to buy himself a new bike.', 'Sam is in the mall. The mall is very large. The mall has many shops. The mall has an end. Sam is at the end. Sam wants to earn more money. The mall has very few people.', \"Jeremy works hard at his job but he doesn't earn a lot of money. One day he has an idea to start his own business. Jeremy works hard and eventually his business ends up successful.\", 'A man is running. He hits a ball at the end. The ball goes in the hole. The man tries to score a point. He ends up winning the game. The man earns a point.', 'Bob and Bill end up getting kicked out of their jobs after they argue. At the end, Bill ends up leaving. Bob eventually earns more money. Bob and Bill end up working together for the rest of their lives.', 'The game ended before the man could earn the money. The man won the game. The man was very proud of his win. He had won the game in just two shots. The man was a professional golfer.', \"Alexa has a really big test at the end of the week. She will do her best to study. She'll earn good grades. Alexa has a lot of friends that study hard.\", 'End is in love with an attractive young lady. He wants to earn money by becoming a chef. At the end, he loses money. The young lady is not interested in him.', 'A kid tries to earn money by playing games at the end of the school day. He loses. Then, he goes home. He earns more money for the next day.'])],\n",
       "      dtype=object)"
      ]
     },
     "execution_count": 20,
     "metadata": {},
     "output_type": "execute_result"
    }
   ],
   "source": [
    "before[100]"
   ]
  },
  {
   "cell_type": "code",
   "execution_count": null,
   "id": "625ee43b",
   "metadata": {},
   "outputs": [],
   "source": []
  }
 ],
 "metadata": {
  "kernelspec": {
   "display_name": "Python 3 (ipykernel)",
   "language": "python",
   "name": "python3"
  },
  "language_info": {
   "codemirror_mode": {
    "name": "ipython",
    "version": 3
   },
   "file_extension": ".py",
   "mimetype": "text/x-python",
   "name": "python",
   "nbconvert_exporter": "python",
   "pygments_lexer": "ipython3",
   "version": "3.8.13"
  }
 },
 "nbformat": 4,
 "nbformat_minor": 5
}
